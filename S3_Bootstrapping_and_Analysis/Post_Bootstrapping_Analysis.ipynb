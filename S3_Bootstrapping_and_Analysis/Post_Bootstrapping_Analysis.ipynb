{
 "cells": [
  {
   "cell_type": "markdown",
   "id": "b5784c59-889c-4d7c-946e-6313a1abdacf",
   "metadata": {},
   "source": [
    "## 1 Functions and module"
   ]
  },
  {
   "cell_type": "markdown",
   "id": "ac9dbdae-d8c4-465e-9435-1a54e8d0181d",
   "metadata": {},
   "source": [
    "### 1.1 Modules"
   ]
  },
  {
   "cell_type": "code",
   "execution_count": 2,
   "id": "7abd4f81-b227-4bf0-92ec-0a1dddaac054",
   "metadata": {
    "execution": {
     "iopub.execute_input": "2023-05-04T23:02:37.533427Z",
     "iopub.status.busy": "2023-05-04T23:02:37.532555Z",
     "iopub.status.idle": "2023-05-04T23:02:37.537318Z",
     "shell.execute_reply": "2023-05-04T23:02:37.536666Z",
     "shell.execute_reply.started": "2023-05-04T23:02:37.533399Z"
    },
    "tags": []
   },
   "outputs": [],
   "source": [
    "import pandas as pd\n",
    "import numpy as np\n",
    "import copy\n",
    "import scipy"
   ]
  },
  {
   "cell_type": "markdown",
   "id": "2984352a-d961-45a1-bddc-143a6c187123",
   "metadata": {},
   "source": [
    "### 1.2 Functions"
   ]
  },
  {
   "cell_type": "code",
   "execution_count": 3,
   "id": "e960fa49-46f0-48b9-8575-488cc395ffab",
   "metadata": {
    "execution": {
     "iopub.execute_input": "2023-05-04T23:02:38.481329Z",
     "iopub.status.busy": "2023-05-04T23:02:38.480952Z",
     "iopub.status.idle": "2023-05-04T23:02:38.485140Z",
     "shell.execute_reply": "2023-05-04T23:02:38.484554Z",
     "shell.execute_reply.started": "2023-05-04T23:02:38.481310Z"
    },
    "tags": []
   },
   "outputs": [],
   "source": [
    "def fdr(p_vals):\n",
    "    from scipy.stats import rankdata\n",
    "    p = np.asfarray(p_vals) # make input as float array\n",
    "    by_descend = p.argsort()[::-1]\n",
    "    by_orig = by_descend.argsort()\n",
    "    p = p[by_descend] # sort pvalue from small to large\n",
    "    ranked_p_values = rankdata(p,method ='max') # this max is very important, when identical, use largest\n",
    "    fdr = p * len(p) / ranked_p_values\n",
    "    fdr = np.minimum(1, np.minimum.accumulate(fdr))\n",
    "\n",
    "    return fdr[by_orig]"
   ]
  },
  {
   "cell_type": "markdown",
   "id": "d65101d2-aab6-4a95-a95f-045d0b58cec0",
   "metadata": {},
   "source": [
    "## 2 Input and Output address "
   ]
  },
  {
   "cell_type": "markdown",
   "id": "55d97804-897d-4e43-9ec5-d30466a26f6e",
   "metadata": {},
   "source": [
    "### 2.1 Input"
   ]
  },
  {
   "cell_type": "code",
   "execution_count": 15,
   "id": "3db498df-c169-42eb-9257-4e5c349342d4",
   "metadata": {
    "execution": {
     "iopub.execute_input": "2023-05-04T23:09:43.128550Z",
     "iopub.status.busy": "2023-05-04T23:09:43.126976Z",
     "iopub.status.idle": "2023-05-04T23:09:43.134692Z",
     "shell.execute_reply": "2023-05-04T23:09:43.133823Z",
     "shell.execute_reply.started": "2023-05-04T23:09:43.128498Z"
    },
    "tags": []
   },
   "outputs": [],
   "source": [
    "# combined barcode dataframe address\n",
    "parent_address = \"Data/\"\n",
    "Chromatin_bootstrap_address = parent_address + \"Chromatin/Chromatin_bootstrapping_result_summary.csv\"\n",
    "Chromatin_bootstrap_KT_address = parent_address + \"Chromatin/Chromatin_bootstrapping_result_KT_summary.csv\"\n",
    "# KT data\n",
    "Saturation_bootstrap_address = parent_address + \"Saturation/Saturation_bootstrapping_result_summary.csv\"\n",
    "Saturation_bootstrap_KT_address = parent_address + \"Saturation/Saturation_bootstrapping_result_KT_summary.csv\"\n",
    "\n",
    "# sgRNA to include\n",
    "Gene_to_include_address = parent_address + \"Table_gene_group.xlsx\""
   ]
  },
  {
   "cell_type": "markdown",
   "id": "c4df81fd-fac9-4466-adf6-485de88fe16f",
   "metadata": {},
   "source": [
    "### 2.2 Output "
   ]
  },
  {
   "cell_type": "code",
   "execution_count": 79,
   "id": "effa8e80-2a61-498e-876b-d97f707ded1a",
   "metadata": {
    "execution": {
     "iopub.execute_input": "2023-05-05T00:04:39.046594Z",
     "iopub.status.busy": "2023-05-05T00:04:39.044828Z",
     "iopub.status.idle": "2023-05-05T00:04:39.052539Z",
     "shell.execute_reply": "2023-05-05T00:04:39.051852Z",
     "shell.execute_reply.started": "2023-05-05T00:04:39.046526Z"
    },
    "tags": []
   },
   "outputs": [],
   "source": [
    "LN_mean_output_address  = parent_address + 'Chromatin/Summary_table_LN_mean.csv'\n",
    "Percentile_output_address  = parent_address + 'Chromatin/Summary_table_Percentile.csv'\n",
    "TTN_output_address  = parent_address + 'Chromatin/Summary_table_TTN.csv'\n",
    "TTB_output_address  = parent_address + 'Chromatin/Summary_table_TTB.csv'"
   ]
  },
  {
   "cell_type": "markdown",
   "id": "2d3632a7-f094-45d1-920c-e82878aa41d4",
   "metadata": {},
   "source": [
    "## 3 Read data"
   ]
  },
  {
   "cell_type": "code",
   "execution_count": 6,
   "id": "9fe1c5f9-6777-4cdc-9995-80cf6e564733",
   "metadata": {
    "execution": {
     "iopub.execute_input": "2023-05-04T23:03:57.137515Z",
     "iopub.status.busy": "2023-05-04T23:03:57.136984Z",
     "iopub.status.idle": "2023-05-04T23:03:57.144535Z",
     "shell.execute_reply": "2023-05-04T23:03:57.143916Z",
     "shell.execute_reply.started": "2023-05-04T23:03:57.137472Z"
    },
    "tags": []
   },
   "outputs": [],
   "source": [
    "def Generate_simplified(input_df):\n",
    "    temp_q = [50,60,70,80,90,95,97,99]\n",
    "    temp_trait_list = ['LN_mean_relative','Geo_mean_relative','TTB_normalized_relative','TTN_normalized_relative','95_percentile_relative'] + [str(x) + '_percentile_relative' for x in temp_q]\n",
    "    temp_trait_list = list(set(temp_trait_list))\n",
    "    temp_list = []\n",
    "    for temp_trait in temp_trait_list:\n",
    "        temp0 = temp_trait + '_97.5P'\n",
    "        temp1 = temp_trait + '_2.5P'\n",
    "        temp2 = temp_trait +'_bootstrap_mean'\n",
    "        temp3 = temp_trait +'_pvalue'\n",
    "        temp4 = temp_trait +'_pvalue_FDR'\n",
    "        temp5 = temp_trait +'_bootstrap_median'\n",
    "        temp_list.append(temp_trait)\n",
    "        temp_list.append(temp0)\n",
    "        temp_list.append(temp1)\n",
    "        temp_list.append(temp2)\n",
    "        temp_list.append(temp3)\n",
    "        temp_list.append(temp4)\n",
    "        temp_list.append(temp5)\n",
    "    return input_df[['Targeted_gene_name','Numbered_gene_name','gRNA','Type'] +sorted(temp_list)]"
   ]
  },
  {
   "cell_type": "code",
   "execution_count": 8,
   "id": "7504af0b-a2b6-4bc0-8877-0be5047d16a4",
   "metadata": {
    "execution": {
     "iopub.execute_input": "2023-05-04T23:04:21.858986Z",
     "iopub.status.busy": "2023-05-04T23:04:21.857973Z",
     "iopub.status.idle": "2023-05-04T23:04:21.925420Z",
     "shell.execute_reply": "2023-05-04T23:04:21.924909Z",
     "shell.execute_reply.started": "2023-05-04T23:04:21.858917Z"
    },
    "tags": []
   },
   "outputs": [],
   "source": [
    "# chromatin data\n",
    "Chromatin_df = Generate_simplified(pd.read_csv(Chromatin_bootstrap_address))\n",
    "Chromatin_KT_df = Generate_simplified(pd.read_csv(Chromatin_bootstrap_KT_address))"
   ]
  },
  {
   "cell_type": "code",
   "execution_count": 9,
   "id": "44b30fd9-3a18-45f7-bc3e-00589fd770f5",
   "metadata": {
    "execution": {
     "iopub.execute_input": "2023-05-04T23:04:22.591572Z",
     "iopub.status.busy": "2023-05-04T23:04:22.591130Z",
     "iopub.status.idle": "2023-05-04T23:04:22.617596Z",
     "shell.execute_reply": "2023-05-04T23:04:22.617122Z",
     "shell.execute_reply.started": "2023-05-04T23:04:22.591544Z"
    },
    "tags": []
   },
   "outputs": [],
   "source": [
    "# chromatin data\n",
    "Saturation_df = Generate_simplified(pd.read_csv(Saturation_bootstrap_address))\n",
    "Saturation_KT_df = Generate_simplified(pd.read_csv(Saturation_bootstrap_KT_address))"
   ]
  },
  {
   "cell_type": "markdown",
   "id": "7b5ca046-1ec8-48ba-aa9c-e8b95a6df0eb",
   "metadata": {
    "tags": []
   },
   "source": [
    "### 3.1 I correct pvalues"
   ]
  },
  {
   "cell_type": "code",
   "execution_count": 10,
   "id": "d3ae8d17-a410-4f4b-9346-6a07ade84e2f",
   "metadata": {
    "execution": {
     "iopub.execute_input": "2023-05-04T23:04:25.331853Z",
     "iopub.status.busy": "2023-05-04T23:04:25.331537Z",
     "iopub.status.idle": "2023-05-04T23:04:25.349103Z",
     "shell.execute_reply": "2023-05-04T23:04:25.348491Z",
     "shell.execute_reply.started": "2023-05-04T23:04:25.331828Z"
    },
    "tags": []
   },
   "outputs": [],
   "source": [
    "temp_df = Chromatin_df\n",
    "temp_c = [x for x in temp_df.columns if ('pvalue' in x)&( 'FDR' not in x)]\n",
    "for x in temp_c:\n",
    "    temp_df[x] = temp_df[x].apply(lambda x: min(x,1-x))\n",
    "Chromatin_df = temp_df"
   ]
  },
  {
   "cell_type": "code",
   "execution_count": 11,
   "id": "d0ed0f35-863f-4d73-b09e-d60f621b681e",
   "metadata": {
    "execution": {
     "iopub.execute_input": "2023-05-04T23:04:25.958819Z",
     "iopub.status.busy": "2023-05-04T23:04:25.958407Z",
     "iopub.status.idle": "2023-05-04T23:04:25.969134Z",
     "shell.execute_reply": "2023-05-04T23:04:25.968693Z",
     "shell.execute_reply.started": "2023-05-04T23:04:25.958802Z"
    },
    "tags": []
   },
   "outputs": [],
   "source": [
    "temp_df = Chromatin_KT_df\n",
    "temp_c = [x for x in temp_df.columns if ('pvalue' in x)&( 'FDR' not in x)]\n",
    "for x in temp_c:\n",
    "    temp_df[x] = temp_df[x].apply(lambda x: min(x,1-x))\n",
    "Chromatin_KT_df = temp_df"
   ]
  },
  {
   "cell_type": "code",
   "execution_count": 12,
   "id": "fc3ea363-3b90-4f1e-9a1c-e975a26b4d90",
   "metadata": {
    "execution": {
     "iopub.execute_input": "2023-05-04T23:04:26.424441Z",
     "iopub.status.busy": "2023-05-04T23:04:26.424209Z",
     "iopub.status.idle": "2023-05-04T23:04:26.432900Z",
     "shell.execute_reply": "2023-05-04T23:04:26.432231Z",
     "shell.execute_reply.started": "2023-05-04T23:04:26.424422Z"
    },
    "tags": []
   },
   "outputs": [],
   "source": [
    "temp_df = Saturation_df\n",
    "temp_c = [x for x in temp_df.columns if ('pvalue' in x)&( 'FDR' not in x)]\n",
    "for x in temp_c:\n",
    "    temp_df[x] = temp_df[x].apply(lambda x: min(x,1-x))\n",
    "Saturation_df = temp_df"
   ]
  },
  {
   "cell_type": "code",
   "execution_count": 13,
   "id": "38587bb6-d627-4e56-8156-4504c33739a9",
   "metadata": {
    "execution": {
     "iopub.execute_input": "2023-05-04T23:04:26.853885Z",
     "iopub.status.busy": "2023-05-04T23:04:26.853639Z",
     "iopub.status.idle": "2023-05-04T23:04:26.862489Z",
     "shell.execute_reply": "2023-05-04T23:04:26.862066Z",
     "shell.execute_reply.started": "2023-05-04T23:04:26.853870Z"
    },
    "tags": []
   },
   "outputs": [],
   "source": [
    "temp_df = Saturation_KT_df\n",
    "temp_c = [x for x in temp_df.columns if ('pvalue' in x)&( 'FDR' not in x)]\n",
    "for x in temp_c:\n",
    "    temp_df[x] = temp_df[x].apply(lambda x: min(x,1-x))\n",
    "Saturation_KT_df = temp_df"
   ]
  },
  {
   "cell_type": "markdown",
   "id": "a60fce90-edbd-490d-ac21-4bcb86cf3ba5",
   "metadata": {},
   "source": [
    "### 3.2 Filter out genes from other people's data"
   ]
  },
  {
   "cell_type": "code",
   "execution_count": 44,
   "id": "87c1b1d5-b448-4e10-9357-3d51774bafd1",
   "metadata": {
    "execution": {
     "iopub.execute_input": "2023-05-04T23:18:43.041501Z",
     "iopub.status.busy": "2023-05-04T23:18:43.040992Z",
     "iopub.status.idle": "2023-05-04T23:18:43.044939Z",
     "shell.execute_reply": "2023-05-04T23:18:43.044402Z",
     "shell.execute_reply.started": "2023-05-04T23:18:43.041475Z"
    },
    "tags": []
   },
   "outputs": [],
   "source": [
    "# ref: https://docs.google.com/spreadsheets/d/1ucg3jBUXZMwZIv3QZhJ41Ne0RTrujqQ3/edit#gid=1593778826"
   ]
  },
  {
   "cell_type": "code",
   "execution_count": 45,
   "id": "9fd92aab-5b93-4171-8bac-dcd8019ead5e",
   "metadata": {
    "execution": {
     "iopub.execute_input": "2023-05-04T23:18:43.409851Z",
     "iopub.status.busy": "2023-05-04T23:18:43.409565Z",
     "iopub.status.idle": "2023-05-04T23:18:43.436119Z",
     "shell.execute_reply": "2023-05-04T23:18:43.435720Z",
     "shell.execute_reply.started": "2023-05-04T23:18:43.409830Z"
    },
    "tags": []
   },
   "outputs": [],
   "source": [
    "Gene_to_include_df = pd.read_excel(Gene_to_include_address)"
   ]
  },
  {
   "cell_type": "code",
   "execution_count": 46,
   "id": "82f33012-46b5-4806-b612-518535df6c9f",
   "metadata": {
    "execution": {
     "iopub.execute_input": "2023-05-04T23:18:43.598396Z",
     "iopub.status.busy": "2023-05-04T23:18:43.598140Z",
     "iopub.status.idle": "2023-05-04T23:18:43.601916Z",
     "shell.execute_reply": "2023-05-04T23:18:43.601254Z",
     "shell.execute_reply.started": "2023-05-04T23:18:43.598379Z"
    },
    "tags": []
   },
   "outputs": [],
   "source": [
    "Gene_to_exclude_raw = ['CELSR1','CELSR2','VANGL1','Ptpn14','Cdkn1a','Gss',\n",
    "                   'IFT80','CEP290','KIF3A','TULP3','IFT140','Stag1','Smc3','Smc1a',\n",
    "                  'Nipbl','Mau2','Wapl','Pds5a','Rad21','OTUD5','UBE2Q1','MSI2','C7orf26',\n",
    "                      'ZZZ3','RSU1','GCLC','WNK1','Sty1','Zmat3','Stag2']\n",
    "#Sty1 is a typo version of gene Sytl1"
   ]
  },
  {
   "cell_type": "code",
   "execution_count": 47,
   "id": "d1c68d13-b519-449d-873f-653248c8d6bc",
   "metadata": {
    "execution": {
     "iopub.execute_input": "2023-05-04T23:18:43.767011Z",
     "iopub.status.busy": "2023-05-04T23:18:43.766775Z",
     "iopub.status.idle": "2023-05-04T23:18:43.769644Z",
     "shell.execute_reply": "2023-05-04T23:18:43.769056Z",
     "shell.execute_reply.started": "2023-05-04T23:18:43.766994Z"
    },
    "tags": []
   },
   "outputs": [],
   "source": [
    "Gene_to_exclude = [x.capitalize() for x in Gene_to_exclude_raw]"
   ]
  },
  {
   "cell_type": "code",
   "execution_count": 48,
   "id": "ae823700-a31c-4a44-a51d-01073de298aa",
   "metadata": {
    "execution": {
     "iopub.execute_input": "2023-05-04T23:18:43.938033Z",
     "iopub.status.busy": "2023-05-04T23:18:43.937807Z",
     "iopub.status.idle": "2023-05-04T23:18:43.942851Z",
     "shell.execute_reply": "2023-05-04T23:18:43.942462Z",
     "shell.execute_reply.started": "2023-05-04T23:18:43.938015Z"
    },
    "tags": []
   },
   "outputs": [],
   "source": [
    "Chromatin_df_final = Chromatin_df[~Chromatin_df.Targeted_gene_name.isin(Gene_to_exclude)].copy()"
   ]
  },
  {
   "cell_type": "code",
   "execution_count": 49,
   "id": "7b033d7f-19b8-4ad2-9ef0-8bab2ecfb274",
   "metadata": {
    "execution": {
     "iopub.execute_input": "2023-05-04T23:18:44.107142Z",
     "iopub.status.busy": "2023-05-04T23:18:44.106902Z",
     "iopub.status.idle": "2023-05-04T23:18:44.112445Z",
     "shell.execute_reply": "2023-05-04T23:18:44.111972Z",
     "shell.execute_reply.started": "2023-05-04T23:18:44.107124Z"
    },
    "tags": []
   },
   "outputs": [],
   "source": [
    "Chromatin_KT_df_final = Chromatin_KT_df[~Chromatin_KT_df.Targeted_gene_name.isin(Gene_to_exclude)].copy()"
   ]
  },
  {
   "cell_type": "code",
   "execution_count": 50,
   "id": "baeaa4a0-a83a-40a9-b7fa-780290fbefa2",
   "metadata": {
    "execution": {
     "iopub.execute_input": "2023-05-04T23:18:44.439065Z",
     "iopub.status.busy": "2023-05-04T23:18:44.438751Z",
     "iopub.status.idle": "2023-05-04T23:18:44.442976Z",
     "shell.execute_reply": "2023-05-04T23:18:44.442544Z",
     "shell.execute_reply.started": "2023-05-04T23:18:44.439048Z"
    },
    "tags": []
   },
   "outputs": [],
   "source": [
    "Saturation_df_final = Saturation_df[~Saturation_df.Targeted_gene_name.isin(Gene_to_exclude)].copy()"
   ]
  },
  {
   "cell_type": "code",
   "execution_count": 51,
   "id": "09b4cd99-0ac1-4622-875c-06947509fdb6",
   "metadata": {
    "execution": {
     "iopub.execute_input": "2023-05-04T23:18:44.826655Z",
     "iopub.status.busy": "2023-05-04T23:18:44.826416Z",
     "iopub.status.idle": "2023-05-04T23:18:44.830850Z",
     "shell.execute_reply": "2023-05-04T23:18:44.830440Z",
     "shell.execute_reply.started": "2023-05-04T23:18:44.826637Z"
    },
    "tags": []
   },
   "outputs": [],
   "source": [
    "Saturation_KT_df_final = Saturation_KT_df[~Saturation_KT_df.Targeted_gene_name.isin(Gene_to_exclude)].copy()"
   ]
  },
  {
   "cell_type": "code",
   "execution_count": 52,
   "id": "2db650a7-4073-4f49-a48a-d2ffac90763f",
   "metadata": {
    "execution": {
     "iopub.execute_input": "2023-05-04T23:18:45.615553Z",
     "iopub.status.busy": "2023-05-04T23:18:45.615323Z",
     "iopub.status.idle": "2023-05-04T23:18:45.620221Z",
     "shell.execute_reply": "2023-05-04T23:18:45.619695Z",
     "shell.execute_reply.started": "2023-05-04T23:18:45.615538Z"
    },
    "tags": []
   },
   "outputs": [
    {
     "data": {
      "text/plain": [
       "set()"
      ]
     },
     "execution_count": 52,
     "metadata": {},
     "output_type": "execute_result"
    }
   ],
   "source": [
    "# test if all the remaining genes are expected \n",
    "kk = [x.capitalize() for x in Gene_to_include_df.Gene_symbol]\n",
    "set([x.capitalize() for x in Chromatin_df_final.Targeted_gene_name]) - set(kk)"
   ]
  },
  {
   "cell_type": "markdown",
   "id": "bd9632bf-70b7-4113-ba07-e370c9f3a856",
   "metadata": {},
   "source": [
    "### 3.3 Recalculate two side pvalue and FDR"
   ]
  },
  {
   "cell_type": "code",
   "execution_count": 53,
   "id": "add5f57c-2f73-456f-a021-4073845d1896",
   "metadata": {
    "execution": {
     "iopub.execute_input": "2023-05-05T00:01:44.434431Z",
     "iopub.status.busy": "2023-05-05T00:01:44.433221Z",
     "iopub.status.idle": "2023-05-05T00:01:44.521048Z",
     "shell.execute_reply": "2023-05-05T00:01:44.520522Z",
     "shell.execute_reply.started": "2023-05-05T00:01:44.434389Z"
    },
    "tags": []
   },
   "outputs": [],
   "source": [
    "temp_df = Chromatin_df_final\n",
    "temp_c = [x for x in temp_df.columns if ('pvalue' in x)&( 'FDR' not in x)]\n",
    "for x in temp_c:\n",
    "    temp_df[x +'_FDR'] = fdr(temp_df[x])\n",
    "    temp_df[x +'_twoside'] = temp_df[x]*2\n",
    "    temp_df[x +'_twoside_FDR'] = fdr(temp_df[x +'_twoside'])\n",
    "Chromatin_df_final = temp_df"
   ]
  },
  {
   "cell_type": "code",
   "execution_count": 54,
   "id": "115d0b41-416d-4d01-a724-c5349bdedd3c",
   "metadata": {
    "execution": {
     "iopub.execute_input": "2023-05-05T00:01:44.860708Z",
     "iopub.status.busy": "2023-05-05T00:01:44.860489Z",
     "iopub.status.idle": "2023-05-05T00:01:44.877511Z",
     "shell.execute_reply": "2023-05-05T00:01:44.877061Z",
     "shell.execute_reply.started": "2023-05-05T00:01:44.860693Z"
    },
    "tags": []
   },
   "outputs": [],
   "source": [
    "temp_df = Chromatin_KT_df_final\n",
    "temp_c = [x for x in temp_df.columns if ('pvalue' in x)&( 'FDR' not in x)]\n",
    "for x in temp_c:\n",
    "    temp_df[x +'_FDR'] = fdr(temp_df[x])\n",
    "    temp_df[x +'_twoside'] = temp_df[x]*2\n",
    "    temp_df[x +'_twoside_FDR'] = fdr(temp_df[x +'_twoside'])\n",
    "Chromatin_KT_df_final = temp_df"
   ]
  },
  {
   "cell_type": "code",
   "execution_count": 55,
   "id": "8a4b44d3-b8df-4bec-8f86-90e120f42114",
   "metadata": {
    "execution": {
     "iopub.execute_input": "2023-05-05T00:01:45.902047Z",
     "iopub.status.busy": "2023-05-05T00:01:45.901799Z",
     "iopub.status.idle": "2023-05-05T00:01:45.916747Z",
     "shell.execute_reply": "2023-05-05T00:01:45.916262Z",
     "shell.execute_reply.started": "2023-05-05T00:01:45.902032Z"
    },
    "tags": []
   },
   "outputs": [],
   "source": [
    "temp_df = Saturation_df_final\n",
    "temp_c = [x for x in temp_df.columns if ('pvalue' in x)&( 'FDR' not in x)]\n",
    "for x in temp_c:\n",
    "    temp_df[x +'_FDR'] = fdr(temp_df[x])\n",
    "    temp_df[x +'_twoside'] = temp_df[x]*2\n",
    "    temp_df[x +'_twoside_FDR'] = fdr(temp_df[x +'_twoside'])\n",
    "Saturation_df_final = temp_df"
   ]
  },
  {
   "cell_type": "code",
   "execution_count": 56,
   "id": "7c774df0-d541-479c-99af-50a95734db76",
   "metadata": {
    "execution": {
     "iopub.execute_input": "2023-05-05T00:01:46.241154Z",
     "iopub.status.busy": "2023-05-05T00:01:46.240908Z",
     "iopub.status.idle": "2023-05-05T00:01:46.254770Z",
     "shell.execute_reply": "2023-05-05T00:01:46.254356Z",
     "shell.execute_reply.started": "2023-05-05T00:01:46.241136Z"
    },
    "tags": []
   },
   "outputs": [],
   "source": [
    "temp_df = Saturation_KT_df_final\n",
    "temp_c = [x for x in temp_df.columns if ('pvalue' in x)&( 'FDR' not in x)]\n",
    "for x in temp_c:\n",
    "    temp_df[x +'_FDR'] = fdr(temp_df[x])\n",
    "    temp_df[x +'_twoside'] = temp_df[x]*2\n",
    "    temp_df[x +'_twoside_FDR'] = fdr(temp_df[x +'_twoside'])\n",
    "Saturation_KT_df_final = temp_df"
   ]
  },
  {
   "cell_type": "markdown",
   "id": "bea39b17-7a75-4c56-92b1-5524bd44f740",
   "metadata": {},
   "source": [
    "### 3.4 Output_data"
   ]
  },
  {
   "cell_type": "code",
   "execution_count": 59,
   "id": "a1444eb2-bc02-4527-968f-1a7e1fc8f245",
   "metadata": {
    "execution": {
     "iopub.execute_input": "2023-05-05T00:02:43.461720Z",
     "iopub.status.busy": "2023-05-05T00:02:43.460662Z",
     "iopub.status.idle": "2023-05-05T00:02:43.468059Z",
     "shell.execute_reply": "2023-05-05T00:02:43.467240Z",
     "shell.execute_reply.started": "2023-05-05T00:02:43.461666Z"
    },
    "tags": []
   },
   "outputs": [],
   "source": [
    "temp_a = parent_address + \"Chromatin/Chromatin_sgRNA_result_final.csv\""
   ]
  },
  {
   "cell_type": "code",
   "execution_count": 60,
   "id": "a2bb6a0e-b3c2-4f42-ba15-9ebf6bdfacc6",
   "metadata": {
    "execution": {
     "iopub.execute_input": "2023-05-05T00:02:43.616589Z",
     "iopub.status.busy": "2023-05-05T00:02:43.616346Z",
     "iopub.status.idle": "2023-05-05T00:02:43.705644Z",
     "shell.execute_reply": "2023-05-05T00:02:43.705107Z",
     "shell.execute_reply.started": "2023-05-05T00:02:43.616576Z"
    },
    "tags": []
   },
   "outputs": [],
   "source": [
    "Chromatin_df_final.to_csv(temp_a,index = False)"
   ]
  },
  {
   "cell_type": "code",
   "execution_count": 61,
   "id": "dd2a5810-675e-4a48-9f67-88af30b8f6eb",
   "metadata": {
    "execution": {
     "iopub.execute_input": "2023-05-05T00:02:43.770395Z",
     "iopub.status.busy": "2023-05-05T00:02:43.770013Z",
     "iopub.status.idle": "2023-05-05T00:02:43.772844Z",
     "shell.execute_reply": "2023-05-05T00:02:43.772384Z",
     "shell.execute_reply.started": "2023-05-05T00:02:43.770380Z"
    },
    "tags": []
   },
   "outputs": [],
   "source": [
    "temp_a = parent_address + \"Chromatin/Chromatin_sgRNA_result_KT_final.csv\""
   ]
  },
  {
   "cell_type": "code",
   "execution_count": 62,
   "id": "f239fd04-adeb-4626-823a-516fabbcd270",
   "metadata": {
    "execution": {
     "iopub.execute_input": "2023-05-05T00:02:43.922596Z",
     "iopub.status.busy": "2023-05-05T00:02:43.922265Z",
     "iopub.status.idle": "2023-05-05T00:02:44.004476Z",
     "shell.execute_reply": "2023-05-05T00:02:44.003973Z",
     "shell.execute_reply.started": "2023-05-05T00:02:43.922578Z"
    },
    "tags": []
   },
   "outputs": [],
   "source": [
    "Chromatin_KT_df_final.to_csv(temp_a,index = False)"
   ]
  },
  {
   "cell_type": "code",
   "execution_count": 63,
   "id": "10bc829d-7c69-46bd-9fb8-d50fb1a8ed1c",
   "metadata": {
    "execution": {
     "iopub.execute_input": "2023-05-05T00:02:44.074823Z",
     "iopub.status.busy": "2023-05-05T00:02:44.074579Z",
     "iopub.status.idle": "2023-05-05T00:02:44.077096Z",
     "shell.execute_reply": "2023-05-05T00:02:44.076719Z",
     "shell.execute_reply.started": "2023-05-05T00:02:44.074805Z"
    },
    "tags": []
   },
   "outputs": [],
   "source": [
    "temp_a = parent_address + \"Saturation/Saturation_sgRNA_result_final.csv\""
   ]
  },
  {
   "cell_type": "code",
   "execution_count": 64,
   "id": "f77ed99f-64fa-4364-8722-550be1e8136d",
   "metadata": {
    "execution": {
     "iopub.execute_input": "2023-05-05T00:02:44.234411Z",
     "iopub.status.busy": "2023-05-05T00:02:44.234158Z",
     "iopub.status.idle": "2023-05-05T00:02:44.277100Z",
     "shell.execute_reply": "2023-05-05T00:02:44.276226Z",
     "shell.execute_reply.started": "2023-05-05T00:02:44.234396Z"
    },
    "tags": []
   },
   "outputs": [],
   "source": [
    "Saturation_df_final.to_csv(temp_a,index = False)"
   ]
  },
  {
   "cell_type": "code",
   "execution_count": 65,
   "id": "d4a16d7f-b449-44ce-a8c8-b256743acf73",
   "metadata": {
    "execution": {
     "iopub.execute_input": "2023-05-05T00:02:44.437040Z",
     "iopub.status.busy": "2023-05-05T00:02:44.436813Z",
     "iopub.status.idle": "2023-05-05T00:02:44.439543Z",
     "shell.execute_reply": "2023-05-05T00:02:44.438976Z",
     "shell.execute_reply.started": "2023-05-05T00:02:44.437022Z"
    },
    "tags": []
   },
   "outputs": [],
   "source": [
    "temp_a = parent_address + \"Saturation/Saturation_sgRNA_result_KT_final.csv\""
   ]
  },
  {
   "cell_type": "code",
   "execution_count": 66,
   "id": "cf8999f2-59ff-4908-a20c-f9196cbe1960",
   "metadata": {
    "execution": {
     "iopub.execute_input": "2023-05-05T00:02:44.534594Z",
     "iopub.status.busy": "2023-05-05T00:02:44.534329Z",
     "iopub.status.idle": "2023-05-05T00:02:44.576270Z",
     "shell.execute_reply": "2023-05-05T00:02:44.575547Z",
     "shell.execute_reply.started": "2023-05-05T00:02:44.534576Z"
    },
    "tags": []
   },
   "outputs": [],
   "source": [
    "Saturation_KT_df_final.to_csv(temp_a,index = False)"
   ]
  },
  {
   "cell_type": "markdown",
   "id": "ac65fcaa-e730-4605-9c7e-c757c78c39ef",
   "metadata": {},
   "source": [
    "## 4 Generate metric specific table"
   ]
  },
  {
   "cell_type": "code",
   "execution_count": 67,
   "id": "08c2d15d-07f8-4531-b39a-a15be32083a4",
   "metadata": {
    "execution": {
     "iopub.execute_input": "2023-05-05T00:02:48.938827Z",
     "iopub.status.busy": "2023-05-05T00:02:48.938320Z",
     "iopub.status.idle": "2023-05-05T00:02:48.946699Z",
     "shell.execute_reply": "2023-05-05T00:02:48.945943Z",
     "shell.execute_reply.started": "2023-05-05T00:02:48.938797Z"
    },
    "tags": []
   },
   "outputs": [],
   "source": [
    "def Generate_LN_mean_table(input_df):\n",
    "    # generate a LN mean specific data table\n",
    "    temp_trait = ['gRNA','Targeted_gene_name','Numbered_gene_name','Type','LN_mean_relative',\n",
    "       'LN_mean_relative_2.5P', 'LN_mean_relative_bootstrap_mean','LN_mean_relative_bootstrap_median', 'LN_mean_relative_97.5P','LN_mean_relative_pvalue',\n",
    "       'LN_mean_relative_pvalue_FDR']\n",
    "    output_df = copy.deepcopy(input_df[temp_trait])\n",
    "    return(output_df)"
   ]
  },
  {
   "cell_type": "code",
   "execution_count": 68,
   "id": "375e8c1d-afeb-4ac8-b194-b071b2443915",
   "metadata": {
    "execution": {
     "iopub.execute_input": "2023-05-05T00:02:51.900372Z",
     "iopub.status.busy": "2023-05-05T00:02:51.899910Z",
     "iopub.status.idle": "2023-05-05T00:02:51.907636Z",
     "shell.execute_reply": "2023-05-05T00:02:51.906858Z",
     "shell.execute_reply.started": "2023-05-05T00:02:51.900339Z"
    },
    "tags": []
   },
   "outputs": [],
   "source": [
    "def Generate_Percentile_table(input_df):\n",
    "    # generate a LN mean specific data table\n",
    "    temp_q = [50,60,70,80,90,95,97,99]\n",
    "    temp_list = []\n",
    "    for x in temp_q:\n",
    "        temp = str(x)+'_percentile_relative'\n",
    "        temp_1 = temp +'_2.5P'\n",
    "        temp_2 = temp +'_bootstrap_mean'\n",
    "        temp_3 = temp +'_97.5P'\n",
    "        temp_4 = temp + '_pvalue'\n",
    "        temp_5 = temp + '_pvalue_FDR'\n",
    "        temp_6 = temp + '_bootstrap_median'\n",
    "        temp_list.append(temp)\n",
    "        temp_list.append(temp_1)\n",
    "        temp_list.append(temp_2)\n",
    "        temp_list.append(temp_3)\n",
    "        temp_list.append(temp_4)\n",
    "        temp_list.append(temp_5)\n",
    "        temp_list.append(temp_6)\n",
    "    temp_trait = ['gRNA','Targeted_gene_name','Numbered_gene_name','Type'] + temp_list\n",
    "    output_df = copy.deepcopy(input_df[temp_trait])\n",
    "    return(output_df)"
   ]
  },
  {
   "cell_type": "code",
   "execution_count": 69,
   "id": "d0a2ada5-d14d-4c82-be71-736f975ea506",
   "metadata": {
    "execution": {
     "iopub.execute_input": "2023-05-05T00:02:53.449518Z",
     "iopub.status.busy": "2023-05-05T00:02:53.448824Z",
     "iopub.status.idle": "2023-05-05T00:02:53.455438Z",
     "shell.execute_reply": "2023-05-05T00:02:53.454570Z",
     "shell.execute_reply.started": "2023-05-05T00:02:53.449461Z"
    },
    "tags": []
   },
   "outputs": [],
   "source": [
    "def Generate_Tumor_number_table(input_df):\n",
    "    # generate a LN mean specific data table\n",
    "    temp_trait = ['gRNA','Targeted_gene_name','Numbered_gene_name','Type','TTN_normalized_relative',\n",
    "       'TTN_normalized_relative_2.5P', 'TTN_normalized_relative_bootstrap_mean','TTN_normalized_relative_bootstrap_median', 'TTN_normalized_relative_97.5P','TTN_normalized_relative_pvalue',\n",
    "       'TTN_normalized_relative_pvalue_FDR']\n",
    "    output_df = copy.deepcopy(input_df[temp_trait])\n",
    "    return(output_df)"
   ]
  },
  {
   "cell_type": "code",
   "execution_count": 70,
   "id": "1b17b5bc-3308-43de-b0ec-dc11d0cefa51",
   "metadata": {
    "execution": {
     "iopub.execute_input": "2023-05-05T00:02:53.796963Z",
     "iopub.status.busy": "2023-05-05T00:02:53.796713Z",
     "iopub.status.idle": "2023-05-05T00:02:53.800592Z",
     "shell.execute_reply": "2023-05-05T00:02:53.799623Z",
     "shell.execute_reply.started": "2023-05-05T00:02:53.796944Z"
    },
    "tags": []
   },
   "outputs": [],
   "source": [
    "def Generate_Tumor_burden_table(input_df):\n",
    "    # generate a LN mean specific data table\n",
    "    temp_trait = ['gRNA','Targeted_gene_name','Numbered_gene_name','Type','TTB_normalized_relative',\n",
    "       'TTB_normalized_relative_2.5P', 'TTB_normalized_relative_bootstrap_mean','TTB_normalized_relative_bootstrap_median', 'TTB_normalized_relative_97.5P','TTB_normalized_relative_pvalue',\n",
    "       'TTB_normalized_relative_pvalue_FDR']\n",
    "    output_df = copy.deepcopy(input_df[temp_trait])\n",
    "    return(output_df)"
   ]
  },
  {
   "cell_type": "code",
   "execution_count": 71,
   "id": "e921c98e-51c1-4cc4-938d-a36a6e575a36",
   "metadata": {
    "execution": {
     "iopub.execute_input": "2023-05-05T00:02:55.264641Z",
     "iopub.status.busy": "2023-05-05T00:02:55.264184Z",
     "iopub.status.idle": "2023-05-05T00:02:55.271519Z",
     "shell.execute_reply": "2023-05-05T00:02:55.270742Z",
     "shell.execute_reply.started": "2023-05-05T00:02:55.264600Z"
    },
    "tags": []
   },
   "outputs": [],
   "source": [
    "def Generate_seperate_table(input_df,input_mouse_type,input_screening):\n",
    "    df1 = Generate_LN_mean_table(input_df)\n",
    "    df1['Mouse_genotype'] = input_mouse_type\n",
    "    df1['Screening'] = input_screening\n",
    "    df2 = Generate_Percentile_table(input_df)\n",
    "    df2['Mouse_genotype'] = input_mouse_type\n",
    "    df2['Screening'] = input_screening\n",
    "    df3 = Generate_Tumor_number_table(input_df)\n",
    "    df3['Mouse_genotype'] = input_mouse_type\n",
    "    df3['Screening'] = input_screening\n",
    "    df4 = Generate_Tumor_burden_table(input_df)\n",
    "    df4['Mouse_genotype'] = input_mouse_type\n",
    "    df4['Screening'] = input_screening\n",
    "    return df1,df2,df3,df4"
   ]
  },
  {
   "cell_type": "markdown",
   "id": "b22991e0-5bed-4a70-a657-7442f42b6f60",
   "metadata": {},
   "source": [
    "### 4.1 Initial screening"
   ]
  },
  {
   "cell_type": "code",
   "execution_count": 72,
   "id": "1c39e799-68a8-4930-94bd-1378d812ba6d",
   "metadata": {
    "execution": {
     "iopub.execute_input": "2023-05-05T00:02:57.262203Z",
     "iopub.status.busy": "2023-05-05T00:02:57.261798Z",
     "iopub.status.idle": "2023-05-05T00:02:57.291017Z",
     "shell.execute_reply": "2023-05-05T00:02:57.290537Z",
     "shell.execute_reply.started": "2023-05-05T00:02:57.262179Z"
    },
    "tags": []
   },
   "outputs": [],
   "source": [
    "Initial_screening_LN_mean,Initial_screening_percentile,Initial_screening_TTN,Initial_screening_TTB = Generate_seperate_table(Chromatin_df_final,'KTC','Initial_screening')\n",
    "Initial_screening_KT_LN_mean,Initial_screening_KT_percentile,Initial_screening_KT_TTN,Initial_screening_KT_TTB = Generate_seperate_table(Chromatin_KT_df_final,'KT','Initial_screening')"
   ]
  },
  {
   "cell_type": "markdown",
   "id": "c9b1e755-3f3d-4bea-92ee-6c5b8106253c",
   "metadata": {},
   "source": [
    "### 4.2 Saturation screening"
   ]
  },
  {
   "cell_type": "code",
   "execution_count": 73,
   "id": "788b9e3d-8583-4634-a033-ac6e5f94681b",
   "metadata": {
    "execution": {
     "iopub.execute_input": "2023-05-05T00:02:59.413506Z",
     "iopub.status.busy": "2023-05-05T00:02:59.412657Z",
     "iopub.status.idle": "2023-05-05T00:02:59.429122Z",
     "shell.execute_reply": "2023-05-05T00:02:59.428627Z",
     "shell.execute_reply.started": "2023-05-05T00:02:59.413455Z"
    },
    "tags": []
   },
   "outputs": [],
   "source": [
    "Saturation_screening_LN_mean,Saturation_screening_percentile,Saturation_screening_TTN,Saturation_screening_TTB = Generate_seperate_table(Saturation_df_final,'KTC','Saturation_screening')\n",
    "Saturation_screening_KT_LN_mean,Saturation_screening_KT_percentile,Saturation_screening_KT_TTN,Saturation_screening_KT_TTB = Generate_seperate_table(Saturation_KT_df_final,'KT','Saturation_screening')"
   ]
  },
  {
   "cell_type": "markdown",
   "id": "002e57f0-9e4c-4d7e-a3e5-0552c5ac57b1",
   "metadata": {},
   "source": [
    "### 4.3 Combine data"
   ]
  },
  {
   "cell_type": "code",
   "execution_count": 74,
   "id": "6c1305da-23e1-48a8-9b31-8c8ee564bf55",
   "metadata": {
    "execution": {
     "iopub.execute_input": "2023-05-05T00:03:02.693504Z",
     "iopub.status.busy": "2023-05-05T00:03:02.692542Z",
     "iopub.status.idle": "2023-05-05T00:03:02.723243Z",
     "shell.execute_reply": "2023-05-05T00:03:02.722629Z",
     "shell.execute_reply.started": "2023-05-05T00:03:02.693463Z"
    },
    "tags": []
   },
   "outputs": [],
   "source": [
    "LN_mean_table = pd.concat([Initial_screening_LN_mean.reset_index(drop = True),\n",
    "                           Initial_screening_KT_LN_mean.reset_index(drop = True),\n",
    "                           Saturation_screening_LN_mean.reset_index(drop = True),\n",
    "                           Saturation_screening_KT_LN_mean.reset_index(drop = True)])\n",
    "LN_mean_table = LN_mean_table.sort_values(by = ['Screening','Mouse_genotype','Numbered_gene_name'],ascending = [True,False,True]).reset_index(drop = True)"
   ]
  },
  {
   "cell_type": "code",
   "execution_count": 75,
   "id": "a3961450-89c6-43aa-bc93-101fd97943ce",
   "metadata": {
    "execution": {
     "iopub.execute_input": "2023-05-05T00:03:03.281110Z",
     "iopub.status.busy": "2023-05-05T00:03:03.280759Z",
     "iopub.status.idle": "2023-05-05T00:03:03.292547Z",
     "shell.execute_reply": "2023-05-05T00:03:03.292107Z",
     "shell.execute_reply.started": "2023-05-05T00:03:03.281091Z"
    },
    "tags": []
   },
   "outputs": [],
   "source": [
    "Percentile_table = pd.concat([Initial_screening_percentile.reset_index(drop = True),\n",
    "                           Initial_screening_KT_percentile.reset_index(drop = True),\n",
    "                           Saturation_screening_percentile.reset_index(drop = True),\n",
    "                           Saturation_screening_KT_percentile.reset_index(drop = True)])\n",
    "Percentile_table = Percentile_table.sort_values(by = ['Screening','Mouse_genotype','Numbered_gene_name'],ascending = [True,False,True]).reset_index(drop = True)"
   ]
  },
  {
   "cell_type": "code",
   "execution_count": 76,
   "id": "a3093647-4cb8-462c-8fdd-c7b26281b52b",
   "metadata": {
    "execution": {
     "iopub.execute_input": "2023-05-05T00:03:03.795796Z",
     "iopub.status.busy": "2023-05-05T00:03:03.795308Z",
     "iopub.status.idle": "2023-05-05T00:03:03.803128Z",
     "shell.execute_reply": "2023-05-05T00:03:03.802714Z",
     "shell.execute_reply.started": "2023-05-05T00:03:03.795775Z"
    },
    "tags": []
   },
   "outputs": [],
   "source": [
    "TTN_table = pd.concat([Initial_screening_TTN.reset_index(drop = True),\n",
    "                           Initial_screening_KT_TTN.reset_index(drop = True),\n",
    "                           Saturation_screening_TTN.reset_index(drop = True),\n",
    "                           Saturation_screening_KT_TTN.reset_index(drop = True)])\n",
    "TTN_table = TTN_table.sort_values(by = ['Screening','Mouse_genotype','Numbered_gene_name'],ascending = [True,False,True]).reset_index(drop = True)"
   ]
  },
  {
   "cell_type": "code",
   "execution_count": 77,
   "id": "f1f1ead4-f3d5-4534-89a8-bec70265f395",
   "metadata": {
    "execution": {
     "iopub.execute_input": "2023-05-05T00:03:04.198627Z",
     "iopub.status.busy": "2023-05-05T00:03:04.198326Z",
     "iopub.status.idle": "2023-05-05T00:03:04.206540Z",
     "shell.execute_reply": "2023-05-05T00:03:04.206130Z",
     "shell.execute_reply.started": "2023-05-05T00:03:04.198604Z"
    },
    "tags": []
   },
   "outputs": [],
   "source": [
    "TTB_table = pd.concat([Initial_screening_TTB.reset_index(drop = True),\n",
    "                           Initial_screening_KT_TTB.reset_index(drop = True),\n",
    "                           Saturation_screening_TTB.reset_index(drop = True),\n",
    "                           Saturation_screening_KT_TTB.reset_index(drop = True)])\n",
    "TTB_table = TTB_table.sort_values(by = ['Screening','Mouse_genotype','Numbered_gene_name'],ascending = [True,False,True]).reset_index(drop = True)"
   ]
  },
  {
   "cell_type": "markdown",
   "id": "ffa5cdd8-65b1-4580-9337-9d5b41f4eea9",
   "metadata": {
    "tags": []
   },
   "source": [
    "### 4.4 Output_data"
   ]
  },
  {
   "cell_type": "code",
   "execution_count": 80,
   "id": "13b43f25-7c9b-4fa8-b0f7-b6bdd125b05b",
   "metadata": {
    "execution": {
     "iopub.execute_input": "2023-05-05T00:04:43.572516Z",
     "iopub.status.busy": "2023-05-05T00:04:43.571946Z",
     "iopub.status.idle": "2023-05-05T00:04:43.784513Z",
     "shell.execute_reply": "2023-05-05T00:04:43.784128Z",
     "shell.execute_reply.started": "2023-05-05T00:04:43.572479Z"
    },
    "tags": []
   },
   "outputs": [],
   "source": [
    "LN_mean_table.to_csv(LN_mean_output_address,index = False)\n",
    "Percentile_table.to_csv(Percentile_output_address,index = False)\n",
    "TTN_table.to_csv(TTN_output_address,index = False)\n",
    "TTB_table.to_csv(TTB_output_address,index = False)"
   ]
  },
  {
   "cell_type": "markdown",
   "id": "bbdfecfc-d91b-4b85-bc99-0a14f3a3fd38",
   "metadata": {},
   "source": [
    "## 5 Gene level effect"
   ]
  },
  {
   "cell_type": "code",
   "execution_count": 81,
   "id": "03a2234e-bda3-4dda-b977-29a85d52dd88",
   "metadata": {
    "execution": {
     "iopub.execute_input": "2023-05-05T00:04:48.520706Z",
     "iopub.status.busy": "2023-05-05T00:04:48.520229Z",
     "iopub.status.idle": "2023-05-05T00:04:48.527424Z",
     "shell.execute_reply": "2023-05-05T00:04:48.526788Z",
     "shell.execute_reply.started": "2023-05-05T00:04:48.520664Z"
    },
    "tags": []
   },
   "outputs": [],
   "source": [
    "def Cal_Combined_Effect(x,bootstrap_N):\n",
    "    d = {}\n",
    "    temp_trait_of_interest = ['LN_mean_relative_bootstrap_mean','TTB_normalized_relative_bootstrap_mean','95_percentile_relative_bootstrap_mean','TTN_normalized_relative_bootstrap_mean'] # this is the list that I am interested to study gene level effect\n",
    "    temp_weight_list = x['TTN_normalized_relative']\n",
    "    for temp_trait in temp_trait_of_interest:\n",
    "        d[temp_trait.replace('_bootstrap_mean','_score')] = sum(x[temp_trait]*temp_weight_list/sum(temp_weight_list))\n",
    "        d[temp_trait.replace('_bootstrap_mean','_pvalue')] = Stouffer_Test(x[temp_trait.replace('_bootstrap_mean','_pvalue')],temp_weight_list,bootstrap_N)\n",
    "        d[temp_trait.replace('_bootstrap_mean','_pvalue_twoside')] = Stouffer_Test(x[temp_trait.replace('_bootstrap_mean','_pvalue_twoside')],temp_weight_list,bootstrap_N)\n",
    "    return pd.Series(d, index=list(d.keys())) "
   ]
  },
  {
   "cell_type": "code",
   "execution_count": 82,
   "id": "bb7b27f9-6d09-470e-8a1f-4554d3530d43",
   "metadata": {
    "execution": {
     "iopub.execute_input": "2023-05-05T00:04:48.873367Z",
     "iopub.status.busy": "2023-05-05T00:04:48.872974Z",
     "iopub.status.idle": "2023-05-05T00:04:48.878446Z",
     "shell.execute_reply": "2023-05-05T00:04:48.877984Z",
     "shell.execute_reply.started": "2023-05-05T00:04:48.873348Z"
    },
    "tags": []
   },
   "outputs": [],
   "source": [
    "def Stouffer_Test(input_pvalue_list,input_weight,bootstrap_N):\n",
    "    # this function combine pvalue using the Stouffer weighted Z \n",
    "    temp_corrected_p_list = []\n",
    "    for tp in input_pvalue_list:\n",
    "        if tp ==1:\n",
    "            temp_corrected_p_list.append(1-1/bootstrap_N) #compensate for p=1\n",
    "        elif tp == 0:\n",
    "            temp_corrected_p_list.append(0+1/bootstrap_N)#compensate for p=0\n",
    "        else:\n",
    "            temp_corrected_p_list.append(tp)\n",
    "    z_score = scipy.stats.norm.ppf(temp_corrected_p_list)# use Percent point function to calculate z score based on pvalue\n",
    "    z_weighted = sum(np.array(input_weight)*z_score)/math.sqrt(sum(np.array(input_weight)**2)) # calculate weighted z_score\n",
    "    stouffer_alpha  = scipy.stats.norm.cdf(z_weighted)\n",
    "    return(stouffer_alpha)"
   ]
  },
  {
   "cell_type": "code",
   "execution_count": 83,
   "id": "ee287b04-7bdd-418a-8622-604b04e68952",
   "metadata": {
    "execution": {
     "iopub.execute_input": "2023-05-05T00:04:49.155690Z",
     "iopub.status.busy": "2023-05-05T00:04:49.155330Z",
     "iopub.status.idle": "2023-05-05T00:04:49.159201Z",
     "shell.execute_reply": "2023-05-05T00:04:49.158774Z",
     "shell.execute_reply.started": "2023-05-05T00:04:49.155676Z"
    },
    "tags": []
   },
   "outputs": [],
   "source": [
    "def Generate_Gene_Level_Effect(input_df,bootstrap_N):\n",
    "    temp_df = input_df.groupby(['Targeted_gene_name', 'Type'],as_index = False).apply(Cal_Combined_Effect,(bootstrap_N))\n",
    "    temp_trait_of_interest = ['LN_mean_relative','TTB_normalized_relative','95_percentile_relative','TTN_normalized_relative']\n",
    "    for temp_trait in temp_trait_of_interest:\n",
    "        temp_name1 = temp_trait + '_pvalue'\n",
    "        temp_name2 = temp_name1 + '_FDR'\n",
    "        temp_name3 = temp_name1 + '_twoside'\n",
    "        temp_name4 = temp_name1 + '_twoside_FDR'\n",
    "        temp_df[temp_name2] = fdr(temp_df[temp_name1])\n",
    "        temp_df[temp_name4] = fdr(temp_df[temp_name3])\n",
    "    return(temp_df)"
   ]
  },
  {
   "cell_type": "code",
   "execution_count": 84,
   "id": "750f05c9-04af-42cd-90c9-43770d5e7d68",
   "metadata": {
    "execution": {
     "iopub.execute_input": "2023-05-05T00:04:49.974786Z",
     "iopub.status.busy": "2023-05-05T00:04:49.974382Z",
     "iopub.status.idle": "2023-05-05T00:04:50.688927Z",
     "shell.execute_reply": "2023-05-05T00:04:50.688100Z",
     "shell.execute_reply.started": "2023-05-05T00:04:49.974768Z"
    },
    "tags": []
   },
   "outputs": [],
   "source": [
    "Chromatin_gene_level_df = Generate_Gene_Level_Effect(Chromatin_df_final,1000)"
   ]
  },
  {
   "cell_type": "code",
   "execution_count": 85,
   "id": "032f9d5e-23f3-460e-8cea-2957e3a3cd16",
   "metadata": {
    "execution": {
     "iopub.execute_input": "2023-05-05T00:04:50.690775Z",
     "iopub.status.busy": "2023-05-05T00:04:50.690561Z",
     "iopub.status.idle": "2023-05-05T00:04:51.305547Z",
     "shell.execute_reply": "2023-05-05T00:04:51.305151Z",
     "shell.execute_reply.started": "2023-05-05T00:04:50.690755Z"
    },
    "tags": []
   },
   "outputs": [],
   "source": [
    "Chromatin_gene_level_KT_df = Generate_Gene_Level_Effect(Chromatin_KT_df_final,1000)"
   ]
  },
  {
   "cell_type": "code",
   "execution_count": 86,
   "id": "29e68343-14bc-4b9d-b6f9-47a6c301f69a",
   "metadata": {
    "execution": {
     "iopub.execute_input": "2023-05-05T00:04:51.306227Z",
     "iopub.status.busy": "2023-05-05T00:04:51.306102Z",
     "iopub.status.idle": "2023-05-05T00:04:51.559354Z",
     "shell.execute_reply": "2023-05-05T00:04:51.558846Z",
     "shell.execute_reply.started": "2023-05-05T00:04:51.306214Z"
    },
    "tags": []
   },
   "outputs": [],
   "source": [
    "Saturation_gene_level_df = Generate_Gene_Level_Effect(Saturation_df_final,1000)"
   ]
  },
  {
   "cell_type": "code",
   "execution_count": 87,
   "id": "163f0331-e792-41b4-bcab-9ca7021175cb",
   "metadata": {
    "execution": {
     "iopub.execute_input": "2023-05-05T00:04:51.560563Z",
     "iopub.status.busy": "2023-05-05T00:04:51.560430Z",
     "iopub.status.idle": "2023-05-05T00:04:51.813467Z",
     "shell.execute_reply": "2023-05-05T00:04:51.812997Z",
     "shell.execute_reply.started": "2023-05-05T00:04:51.560550Z"
    },
    "tags": []
   },
   "outputs": [],
   "source": [
    "Saturation_gene_level_KT_df = Generate_Gene_Level_Effect(Saturation_KT_df_final,1000)"
   ]
  },
  {
   "cell_type": "code",
   "execution_count": 88,
   "id": "88c94808-2287-4c83-92c3-ec5ef4a36d48",
   "metadata": {
    "execution": {
     "iopub.execute_input": "2023-05-05T00:04:52.365480Z",
     "iopub.status.busy": "2023-05-05T00:04:52.365243Z",
     "iopub.status.idle": "2023-05-05T00:04:52.392852Z",
     "shell.execute_reply": "2023-05-05T00:04:52.392273Z",
     "shell.execute_reply.started": "2023-05-05T00:04:52.365461Z"
    },
    "tags": []
   },
   "outputs": [
    {
     "data": {
      "text/html": [
       "<div>\n",
       "<style scoped>\n",
       "    .dataframe tbody tr th:only-of-type {\n",
       "        vertical-align: middle;\n",
       "    }\n",
       "\n",
       "    .dataframe tbody tr th {\n",
       "        vertical-align: top;\n",
       "    }\n",
       "\n",
       "    .dataframe thead th {\n",
       "        text-align: right;\n",
       "    }\n",
       "</style>\n",
       "<table border=\"1\" class=\"dataframe\">\n",
       "  <thead>\n",
       "    <tr style=\"text-align: right;\">\n",
       "      <th></th>\n",
       "      <th>Targeted_gene_name</th>\n",
       "      <th>Type</th>\n",
       "      <th>LN_mean_relative_score</th>\n",
       "      <th>LN_mean_relative_pvalue</th>\n",
       "      <th>LN_mean_relative_pvalue_twoside</th>\n",
       "      <th>TTB_normalized_relative_score</th>\n",
       "      <th>TTB_normalized_relative_pvalue</th>\n",
       "      <th>TTB_normalized_relative_pvalue_twoside</th>\n",
       "      <th>95_percentile_relative_score</th>\n",
       "      <th>95_percentile_relative_pvalue</th>\n",
       "      <th>...</th>\n",
       "      <th>TTN_normalized_relative_pvalue</th>\n",
       "      <th>TTN_normalized_relative_pvalue_twoside</th>\n",
       "      <th>LN_mean_relative_pvalue_FDR</th>\n",
       "      <th>LN_mean_relative_pvalue_twoside_FDR</th>\n",
       "      <th>TTB_normalized_relative_pvalue_FDR</th>\n",
       "      <th>TTB_normalized_relative_pvalue_twoside_FDR</th>\n",
       "      <th>95_percentile_relative_pvalue_FDR</th>\n",
       "      <th>95_percentile_relative_pvalue_twoside_FDR</th>\n",
       "      <th>TTN_normalized_relative_pvalue_FDR</th>\n",
       "      <th>TTN_normalized_relative_pvalue_twoside_FDR</th>\n",
       "    </tr>\n",
       "  </thead>\n",
       "  <tbody>\n",
       "    <tr>\n",
       "      <th>72</th>\n",
       "      <td>Ing1</td>\n",
       "      <td>Experiment</td>\n",
       "      <td>1.190761</td>\n",
       "      <td>2.345095e-09</td>\n",
       "      <td>8.359588e-09</td>\n",
       "      <td>1.339999</td>\n",
       "      <td>1.297310e-03</td>\n",
       "      <td>1.234433e-02</td>\n",
       "      <td>1.221909</td>\n",
       "      <td>8.930495e-06</td>\n",
       "      <td>...</td>\n",
       "      <td>1.751745e-05</td>\n",
       "      <td>1.227453e-04</td>\n",
       "      <td>3.325179e-07</td>\n",
       "      <td>4.095385e-07</td>\n",
       "      <td>3.312548e-03</td>\n",
       "      <td>3.151999e-02</td>\n",
       "      <td>4.605334e-05</td>\n",
       "      <td>0.000207</td>\n",
       "      <td>5.420106e-05</td>\n",
       "      <td>3.753722e-04</td>\n",
       "    </tr>\n",
       "    <tr>\n",
       "      <th>63</th>\n",
       "      <td>Gtf3c1</td>\n",
       "      <td>Experiment</td>\n",
       "      <td>0.804770</td>\n",
       "      <td>4.629252e-09</td>\n",
       "      <td>1.543318e-08</td>\n",
       "      <td>0.480059</td>\n",
       "      <td>5.084374e-07</td>\n",
       "      <td>1.041954e-06</td>\n",
       "      <td>0.759553</td>\n",
       "      <td>7.825053e-08</td>\n",
       "      <td>...</td>\n",
       "      <td>4.978015e-08</td>\n",
       "      <td>4.978015e-08</td>\n",
       "      <td>3.325179e-07</td>\n",
       "      <td>4.095385e-07</td>\n",
       "      <td>3.518922e-06</td>\n",
       "      <td>7.211418e-06</td>\n",
       "      <td>8.947778e-07</td>\n",
       "      <td>0.000006</td>\n",
       "      <td>3.216707e-07</td>\n",
       "      <td>3.457960e-07</td>\n",
       "    </tr>\n",
       "    <tr>\n",
       "      <th>36</th>\n",
       "      <td>Chd2</td>\n",
       "      <td>Experiment</td>\n",
       "      <td>0.843985</td>\n",
       "      <td>6.015470e-09</td>\n",
       "      <td>2.255046e-08</td>\n",
       "      <td>0.828292</td>\n",
       "      <td>1.088104e-02</td>\n",
       "      <td>1.986008e-01</td>\n",
       "      <td>0.805524</td>\n",
       "      <td>1.559251e-06</td>\n",
       "      <td>...</td>\n",
       "      <td>1.299436e-04</td>\n",
       "      <td>9.290100e-04</td>\n",
       "      <td>3.325179e-07</td>\n",
       "      <td>4.095385e-07</td>\n",
       "      <td>2.104200e-02</td>\n",
       "      <td>3.553198e-01</td>\n",
       "      <td>1.108332e-05</td>\n",
       "      <td>0.000073</td>\n",
       "      <td>3.164367e-04</td>\n",
       "      <td>2.283454e-03</td>\n",
       "    </tr>\n",
       "    <tr>\n",
       "      <th>206</th>\n",
       "      <td>Yeats4</td>\n",
       "      <td>Experiment</td>\n",
       "      <td>0.813327</td>\n",
       "      <td>6.548837e-09</td>\n",
       "      <td>1.282523e-08</td>\n",
       "      <td>0.446456</td>\n",
       "      <td>6.558968e-08</td>\n",
       "      <td>6.558968e-08</td>\n",
       "      <td>0.791315</td>\n",
       "      <td>1.099398e-05</td>\n",
       "      <td>...</td>\n",
       "      <td>6.558968e-08</td>\n",
       "      <td>6.558968e-08</td>\n",
       "      <td>3.325179e-07</td>\n",
       "      <td>4.095385e-07</td>\n",
       "      <td>5.948305e-07</td>\n",
       "      <td>7.187535e-07</td>\n",
       "      <td>5.455505e-05</td>\n",
       "      <td>0.000365</td>\n",
       "      <td>3.833352e-07</td>\n",
       "      <td>4.107163e-07</td>\n",
       "    </tr>\n",
       "    <tr>\n",
       "      <th>112</th>\n",
       "      <td>Mllt6</td>\n",
       "      <td>Experiment</td>\n",
       "      <td>1.174621</td>\n",
       "      <td>8.949453e-09</td>\n",
       "      <td>3.151943e-08</td>\n",
       "      <td>1.300431</td>\n",
       "      <td>1.292001e-03</td>\n",
       "      <td>9.382443e-03</td>\n",
       "      <td>1.209808</td>\n",
       "      <td>1.704532e-06</td>\n",
       "      <td>...</td>\n",
       "      <td>6.209363e-04</td>\n",
       "      <td>1.019487e-02</td>\n",
       "      <td>3.325179e-07</td>\n",
       "      <td>4.095385e-07</td>\n",
       "      <td>3.312548e-03</td>\n",
       "      <td>2.492507e-02</td>\n",
       "      <td>1.179716e-05</td>\n",
       "      <td>0.000045</td>\n",
       "      <td>1.298404e-03</td>\n",
       "      <td>2.111221e-02</td>\n",
       "    </tr>\n",
       "    <tr>\n",
       "      <th>...</th>\n",
       "      <td>...</td>\n",
       "      <td>...</td>\n",
       "      <td>...</td>\n",
       "      <td>...</td>\n",
       "      <td>...</td>\n",
       "      <td>...</td>\n",
       "      <td>...</td>\n",
       "      <td>...</td>\n",
       "      <td>...</td>\n",
       "      <td>...</td>\n",
       "      <td>...</td>\n",
       "      <td>...</td>\n",
       "      <td>...</td>\n",
       "      <td>...</td>\n",
       "      <td>...</td>\n",
       "      <td>...</td>\n",
       "      <td>...</td>\n",
       "      <td>...</td>\n",
       "      <td>...</td>\n",
       "      <td>...</td>\n",
       "      <td>...</td>\n",
       "    </tr>\n",
       "    <tr>\n",
       "      <th>241</th>\n",
       "      <td>sgSafe28</td>\n",
       "      <td>Inert</td>\n",
       "      <td>1.002645</td>\n",
       "      <td>4.484000e-01</td>\n",
       "      <td>8.968000e-01</td>\n",
       "      <td>1.119001</td>\n",
       "      <td>1.161000e-01</td>\n",
       "      <td>2.322000e-01</td>\n",
       "      <td>1.015394</td>\n",
       "      <td>3.823000e-01</td>\n",
       "      <td>...</td>\n",
       "      <td>3.689000e-01</td>\n",
       "      <td>7.378000e-01</td>\n",
       "      <td>4.553251e-01</td>\n",
       "      <td>9.403101e-01</td>\n",
       "      <td>1.615571e-01</td>\n",
       "      <td>4.044278e-01</td>\n",
       "      <td>4.070644e-01</td>\n",
       "      <td>0.874303</td>\n",
       "      <td>3.912125e-01</td>\n",
       "      <td>8.257081e-01</td>\n",
       "    </tr>\n",
       "    <tr>\n",
       "      <th>257</th>\n",
       "      <td>sgSafe42</td>\n",
       "      <td>Inert</td>\n",
       "      <td>1.002274</td>\n",
       "      <td>4.533000e-01</td>\n",
       "      <td>9.066000e-01</td>\n",
       "      <td>1.001093</td>\n",
       "      <td>4.889000e-01</td>\n",
       "      <td>9.778000e-01</td>\n",
       "      <td>0.993153</td>\n",
       "      <td>4.299000e-01</td>\n",
       "      <td>...</td>\n",
       "      <td>3.632000e-01</td>\n",
       "      <td>7.264000e-01</td>\n",
       "      <td>4.585304e-01</td>\n",
       "      <td>9.403101e-01</td>\n",
       "      <td>4.889000e-01</td>\n",
       "      <td>9.778000e-01</td>\n",
       "      <td>4.468921e-01</td>\n",
       "      <td>0.922969</td>\n",
       "      <td>3.867271e-01</td>\n",
       "      <td>8.234621e-01</td>\n",
       "    </tr>\n",
       "    <tr>\n",
       "      <th>260</th>\n",
       "      <td>sgSafe7</td>\n",
       "      <td>Inert</td>\n",
       "      <td>1.002403</td>\n",
       "      <td>4.659000e-01</td>\n",
       "      <td>9.318000e-01</td>\n",
       "      <td>1.035160</td>\n",
       "      <td>3.827000e-01</td>\n",
       "      <td>7.654000e-01</td>\n",
       "      <td>0.994752</td>\n",
       "      <td>4.565000e-01</td>\n",
       "      <td>...</td>\n",
       "      <td>4.189000e-01</td>\n",
       "      <td>8.378000e-01</td>\n",
       "      <td>4.684813e-01</td>\n",
       "      <td>9.478154e-01</td>\n",
       "      <td>4.058472e-01</td>\n",
       "      <td>8.639494e-01</td>\n",
       "      <td>4.649718e-01</td>\n",
       "      <td>0.940841</td>\n",
       "      <td>4.334859e-01</td>\n",
       "      <td>8.914427e-01</td>\n",
       "    </tr>\n",
       "    <tr>\n",
       "      <th>242</th>\n",
       "      <td>sgSafe29</td>\n",
       "      <td>Inert</td>\n",
       "      <td>1.002051</td>\n",
       "      <td>4.667000e-01</td>\n",
       "      <td>9.334000e-01</td>\n",
       "      <td>0.970671</td>\n",
       "      <td>4.034000e-01</td>\n",
       "      <td>8.068000e-01</td>\n",
       "      <td>1.010981</td>\n",
       "      <td>4.412000e-01</td>\n",
       "      <td>...</td>\n",
       "      <td>2.100000e-02</td>\n",
       "      <td>4.200000e-02</td>\n",
       "      <td>4.684813e-01</td>\n",
       "      <td>9.478154e-01</td>\n",
       "      <td>4.210087e-01</td>\n",
       "      <td>8.841183e-01</td>\n",
       "      <td>4.532641e-01</td>\n",
       "      <td>0.928285</td>\n",
       "      <td>3.430435e-02</td>\n",
       "      <td>7.565753e-02</td>\n",
       "    </tr>\n",
       "    <tr>\n",
       "      <th>227</th>\n",
       "      <td>sgSafe15</td>\n",
       "      <td>Inert</td>\n",
       "      <td>0.999444</td>\n",
       "      <td>4.903000e-01</td>\n",
       "      <td>9.806000e-01</td>\n",
       "      <td>1.120390</td>\n",
       "      <td>3.352000e-01</td>\n",
       "      <td>6.704000e-01</td>\n",
       "      <td>0.973591</td>\n",
       "      <td>3.248000e-01</td>\n",
       "      <td>...</td>\n",
       "      <td>4.050000e-01</td>\n",
       "      <td>8.100000e-01</td>\n",
       "      <td>4.903000e-01</td>\n",
       "      <td>9.843427e-01</td>\n",
       "      <td>3.688603e-01</td>\n",
       "      <td>8.125124e-01</td>\n",
       "      <td>3.500918e-01</td>\n",
       "      <td>0.776567</td>\n",
       "      <td>4.226786e-01</td>\n",
       "      <td>8.812922e-01</td>\n",
       "    </tr>\n",
       "  </tbody>\n",
       "</table>\n",
       "<p>263 rows × 22 columns</p>\n",
       "</div>"
      ],
      "text/plain": [
       "    Targeted_gene_name        Type  LN_mean_relative_score  \\\n",
       "72                Ing1  Experiment                1.190761   \n",
       "63              Gtf3c1  Experiment                0.804770   \n",
       "36                Chd2  Experiment                0.843985   \n",
       "206             Yeats4  Experiment                0.813327   \n",
       "112              Mllt6  Experiment                1.174621   \n",
       "..                 ...         ...                     ...   \n",
       "241           sgSafe28       Inert                1.002645   \n",
       "257           sgSafe42       Inert                1.002274   \n",
       "260            sgSafe7       Inert                1.002403   \n",
       "242           sgSafe29       Inert                1.002051   \n",
       "227           sgSafe15       Inert                0.999444   \n",
       "\n",
       "     LN_mean_relative_pvalue  LN_mean_relative_pvalue_twoside  \\\n",
       "72              2.345095e-09                     8.359588e-09   \n",
       "63              4.629252e-09                     1.543318e-08   \n",
       "36              6.015470e-09                     2.255046e-08   \n",
       "206             6.548837e-09                     1.282523e-08   \n",
       "112             8.949453e-09                     3.151943e-08   \n",
       "..                       ...                              ...   \n",
       "241             4.484000e-01                     8.968000e-01   \n",
       "257             4.533000e-01                     9.066000e-01   \n",
       "260             4.659000e-01                     9.318000e-01   \n",
       "242             4.667000e-01                     9.334000e-01   \n",
       "227             4.903000e-01                     9.806000e-01   \n",
       "\n",
       "     TTB_normalized_relative_score  TTB_normalized_relative_pvalue  \\\n",
       "72                        1.339999                    1.297310e-03   \n",
       "63                        0.480059                    5.084374e-07   \n",
       "36                        0.828292                    1.088104e-02   \n",
       "206                       0.446456                    6.558968e-08   \n",
       "112                       1.300431                    1.292001e-03   \n",
       "..                             ...                             ...   \n",
       "241                       1.119001                    1.161000e-01   \n",
       "257                       1.001093                    4.889000e-01   \n",
       "260                       1.035160                    3.827000e-01   \n",
       "242                       0.970671                    4.034000e-01   \n",
       "227                       1.120390                    3.352000e-01   \n",
       "\n",
       "     TTB_normalized_relative_pvalue_twoside  95_percentile_relative_score  \\\n",
       "72                             1.234433e-02                      1.221909   \n",
       "63                             1.041954e-06                      0.759553   \n",
       "36                             1.986008e-01                      0.805524   \n",
       "206                            6.558968e-08                      0.791315   \n",
       "112                            9.382443e-03                      1.209808   \n",
       "..                                      ...                           ...   \n",
       "241                            2.322000e-01                      1.015394   \n",
       "257                            9.778000e-01                      0.993153   \n",
       "260                            7.654000e-01                      0.994752   \n",
       "242                            8.068000e-01                      1.010981   \n",
       "227                            6.704000e-01                      0.973591   \n",
       "\n",
       "     95_percentile_relative_pvalue  ...  TTN_normalized_relative_pvalue  \\\n",
       "72                    8.930495e-06  ...                    1.751745e-05   \n",
       "63                    7.825053e-08  ...                    4.978015e-08   \n",
       "36                    1.559251e-06  ...                    1.299436e-04   \n",
       "206                   1.099398e-05  ...                    6.558968e-08   \n",
       "112                   1.704532e-06  ...                    6.209363e-04   \n",
       "..                             ...  ...                             ...   \n",
       "241                   3.823000e-01  ...                    3.689000e-01   \n",
       "257                   4.299000e-01  ...                    3.632000e-01   \n",
       "260                   4.565000e-01  ...                    4.189000e-01   \n",
       "242                   4.412000e-01  ...                    2.100000e-02   \n",
       "227                   3.248000e-01  ...                    4.050000e-01   \n",
       "\n",
       "     TTN_normalized_relative_pvalue_twoside  LN_mean_relative_pvalue_FDR  \\\n",
       "72                             1.227453e-04                 3.325179e-07   \n",
       "63                             4.978015e-08                 3.325179e-07   \n",
       "36                             9.290100e-04                 3.325179e-07   \n",
       "206                            6.558968e-08                 3.325179e-07   \n",
       "112                            1.019487e-02                 3.325179e-07   \n",
       "..                                      ...                          ...   \n",
       "241                            7.378000e-01                 4.553251e-01   \n",
       "257                            7.264000e-01                 4.585304e-01   \n",
       "260                            8.378000e-01                 4.684813e-01   \n",
       "242                            4.200000e-02                 4.684813e-01   \n",
       "227                            8.100000e-01                 4.903000e-01   \n",
       "\n",
       "     LN_mean_relative_pvalue_twoside_FDR  TTB_normalized_relative_pvalue_FDR  \\\n",
       "72                          4.095385e-07                        3.312548e-03   \n",
       "63                          4.095385e-07                        3.518922e-06   \n",
       "36                          4.095385e-07                        2.104200e-02   \n",
       "206                         4.095385e-07                        5.948305e-07   \n",
       "112                         4.095385e-07                        3.312548e-03   \n",
       "..                                   ...                                 ...   \n",
       "241                         9.403101e-01                        1.615571e-01   \n",
       "257                         9.403101e-01                        4.889000e-01   \n",
       "260                         9.478154e-01                        4.058472e-01   \n",
       "242                         9.478154e-01                        4.210087e-01   \n",
       "227                         9.843427e-01                        3.688603e-01   \n",
       "\n",
       "     TTB_normalized_relative_pvalue_twoside_FDR  \\\n",
       "72                                 3.151999e-02   \n",
       "63                                 7.211418e-06   \n",
       "36                                 3.553198e-01   \n",
       "206                                7.187535e-07   \n",
       "112                                2.492507e-02   \n",
       "..                                          ...   \n",
       "241                                4.044278e-01   \n",
       "257                                9.778000e-01   \n",
       "260                                8.639494e-01   \n",
       "242                                8.841183e-01   \n",
       "227                                8.125124e-01   \n",
       "\n",
       "     95_percentile_relative_pvalue_FDR  \\\n",
       "72                        4.605334e-05   \n",
       "63                        8.947778e-07   \n",
       "36                        1.108332e-05   \n",
       "206                       5.455505e-05   \n",
       "112                       1.179716e-05   \n",
       "..                                 ...   \n",
       "241                       4.070644e-01   \n",
       "257                       4.468921e-01   \n",
       "260                       4.649718e-01   \n",
       "242                       4.532641e-01   \n",
       "227                       3.500918e-01   \n",
       "\n",
       "     95_percentile_relative_pvalue_twoside_FDR  \\\n",
       "72                                    0.000207   \n",
       "63                                    0.000006   \n",
       "36                                    0.000073   \n",
       "206                                   0.000365   \n",
       "112                                   0.000045   \n",
       "..                                         ...   \n",
       "241                                   0.874303   \n",
       "257                                   0.922969   \n",
       "260                                   0.940841   \n",
       "242                                   0.928285   \n",
       "227                                   0.776567   \n",
       "\n",
       "     TTN_normalized_relative_pvalue_FDR  \\\n",
       "72                         5.420106e-05   \n",
       "63                         3.216707e-07   \n",
       "36                         3.164367e-04   \n",
       "206                        3.833352e-07   \n",
       "112                        1.298404e-03   \n",
       "..                                  ...   \n",
       "241                        3.912125e-01   \n",
       "257                        3.867271e-01   \n",
       "260                        4.334859e-01   \n",
       "242                        3.430435e-02   \n",
       "227                        4.226786e-01   \n",
       "\n",
       "     TTN_normalized_relative_pvalue_twoside_FDR  \n",
       "72                                 3.753722e-04  \n",
       "63                                 3.457960e-07  \n",
       "36                                 2.283454e-03  \n",
       "206                                4.107163e-07  \n",
       "112                                2.111221e-02  \n",
       "..                                          ...  \n",
       "241                                8.257081e-01  \n",
       "257                                8.234621e-01  \n",
       "260                                8.914427e-01  \n",
       "242                                7.565753e-02  \n",
       "227                                8.812922e-01  \n",
       "\n",
       "[263 rows x 22 columns]"
      ]
     },
     "execution_count": 88,
     "metadata": {},
     "output_type": "execute_result"
    }
   ],
   "source": [
    "Chromatin_gene_level_df.sort_values(by = 'LN_mean_relative_pvalue')"
   ]
  },
  {
   "cell_type": "code",
   "execution_count": null,
   "id": "100355b8-1e85-4600-b45d-323e3b180c5d",
   "metadata": {},
   "outputs": [],
   "source": []
  },
  {
   "cell_type": "markdown",
   "id": "fe8d5c09-d08b-4d2e-958e-fda02c62b532",
   "metadata": {},
   "source": [
    "### 5.1 Output_data"
   ]
  },
  {
   "cell_type": "code",
   "execution_count": 89,
   "id": "46cf0261-8945-420b-8fd1-e33452400210",
   "metadata": {
    "execution": {
     "iopub.execute_input": "2023-05-05T00:05:27.576286Z",
     "iopub.status.busy": "2023-05-05T00:05:27.575047Z",
     "iopub.status.idle": "2023-05-05T00:05:27.582308Z",
     "shell.execute_reply": "2023-05-05T00:05:27.581701Z",
     "shell.execute_reply.started": "2023-05-05T00:05:27.576222Z"
    },
    "tags": []
   },
   "outputs": [],
   "source": [
    "temp_a = parent_address + \"Chromatin/Chromatin_gene_result_final.csv\""
   ]
  },
  {
   "cell_type": "code",
   "execution_count": 90,
   "id": "63f364f0-e0e4-4e1c-814d-9d970093ae12",
   "metadata": {
    "execution": {
     "iopub.execute_input": "2023-05-05T00:05:27.729273Z",
     "iopub.status.busy": "2023-05-05T00:05:27.729009Z",
     "iopub.status.idle": "2023-05-05T00:05:27.743251Z",
     "shell.execute_reply": "2023-05-05T00:05:27.742726Z",
     "shell.execute_reply.started": "2023-05-05T00:05:27.729255Z"
    },
    "tags": []
   },
   "outputs": [],
   "source": [
    "Chromatin_gene_level_df.to_csv(temp_a,index = False)"
   ]
  },
  {
   "cell_type": "code",
   "execution_count": 91,
   "id": "673ad4bf-abee-4a25-8f02-9fdc33e16e46",
   "metadata": {
    "execution": {
     "iopub.execute_input": "2023-05-05T00:05:27.896868Z",
     "iopub.status.busy": "2023-05-05T00:05:27.896550Z",
     "iopub.status.idle": "2023-05-05T00:05:27.899889Z",
     "shell.execute_reply": "2023-05-05T00:05:27.899311Z",
     "shell.execute_reply.started": "2023-05-05T00:05:27.896854Z"
    },
    "tags": []
   },
   "outputs": [],
   "source": [
    "temp_a = parent_address + \"Chromatin/Chromatin_gene_result_KT_final.csv\""
   ]
  },
  {
   "cell_type": "code",
   "execution_count": 92,
   "id": "dd0e2215-4500-49b1-94b3-df844cb3e796",
   "metadata": {
    "execution": {
     "iopub.execute_input": "2023-05-05T00:05:28.038786Z",
     "iopub.status.busy": "2023-05-05T00:05:28.038365Z",
     "iopub.status.idle": "2023-05-05T00:05:28.049403Z",
     "shell.execute_reply": "2023-05-05T00:05:28.048969Z",
     "shell.execute_reply.started": "2023-05-05T00:05:28.038766Z"
    },
    "tags": []
   },
   "outputs": [],
   "source": [
    "Chromatin_gene_level_KT_df.to_csv(temp_a,index = False)"
   ]
  },
  {
   "cell_type": "code",
   "execution_count": 93,
   "id": "9b20b58b-f0f6-4f1e-b665-a0563ac8b0a1",
   "metadata": {
    "execution": {
     "iopub.execute_input": "2023-05-05T00:05:28.218506Z",
     "iopub.status.busy": "2023-05-05T00:05:28.218247Z",
     "iopub.status.idle": "2023-05-05T00:05:28.220944Z",
     "shell.execute_reply": "2023-05-05T00:05:28.220462Z",
     "shell.execute_reply.started": "2023-05-05T00:05:28.218488Z"
    },
    "tags": []
   },
   "outputs": [],
   "source": [
    "temp_a = parent_address + \"Saturation/Saturation_gene_result_final.csv\""
   ]
  },
  {
   "cell_type": "code",
   "execution_count": 94,
   "id": "244f5683-2e08-42ce-8eb5-f678038f003f",
   "metadata": {
    "execution": {
     "iopub.execute_input": "2023-05-05T00:05:28.317707Z",
     "iopub.status.busy": "2023-05-05T00:05:28.317483Z",
     "iopub.status.idle": "2023-05-05T00:05:28.324687Z",
     "shell.execute_reply": "2023-05-05T00:05:28.324153Z",
     "shell.execute_reply.started": "2023-05-05T00:05:28.317690Z"
    },
    "tags": []
   },
   "outputs": [],
   "source": [
    "Saturation_gene_level_df.to_csv(temp_a,index = False)"
   ]
  },
  {
   "cell_type": "code",
   "execution_count": 95,
   "id": "9644288e-de21-4f0e-89af-fd75ef7694e1",
   "metadata": {
    "execution": {
     "iopub.execute_input": "2023-05-05T00:05:28.482750Z",
     "iopub.status.busy": "2023-05-05T00:05:28.482278Z",
     "iopub.status.idle": "2023-05-05T00:05:28.485019Z",
     "shell.execute_reply": "2023-05-05T00:05:28.484633Z",
     "shell.execute_reply.started": "2023-05-05T00:05:28.482731Z"
    },
    "tags": []
   },
   "outputs": [],
   "source": [
    "temp_a = parent_address + \"Saturation/Saturation_gene_result_KT_final.csv\""
   ]
  },
  {
   "cell_type": "code",
   "execution_count": 96,
   "id": "3473b6dd-cd11-42d6-9105-86edb8dbf626",
   "metadata": {
    "execution": {
     "iopub.execute_input": "2023-05-05T00:05:28.863784Z",
     "iopub.status.busy": "2023-05-05T00:05:28.863519Z",
     "iopub.status.idle": "2023-05-05T00:05:28.869941Z",
     "shell.execute_reply": "2023-05-05T00:05:28.869560Z",
     "shell.execute_reply.started": "2023-05-05T00:05:28.863763Z"
    },
    "tags": []
   },
   "outputs": [],
   "source": [
    "Saturation_gene_level_KT_df.to_csv(temp_a,index = False)"
   ]
  },
  {
   "cell_type": "code",
   "execution_count": null,
   "id": "3a685196-d1b2-443b-8690-bfd318fc52be",
   "metadata": {},
   "outputs": [],
   "source": []
  },
  {
   "cell_type": "code",
   "execution_count": null,
   "id": "387e528f-9c17-4ed2-b709-88f8389715e6",
   "metadata": {},
   "outputs": [],
   "source": []
  }
 ],
 "metadata": {
  "kernelspec": {
   "display_name": "HX_basic",
   "language": "python",
   "name": "hx_basic"
  },
  "language_info": {
   "codemirror_mode": {
    "name": "ipython",
    "version": 3
   },
   "file_extension": ".py",
   "mimetype": "text/x-python",
   "name": "python",
   "nbconvert_exporter": "python",
   "pygments_lexer": "ipython3",
   "version": "3.10.6"
  }
 },
 "nbformat": 4,
 "nbformat_minor": 5
}
