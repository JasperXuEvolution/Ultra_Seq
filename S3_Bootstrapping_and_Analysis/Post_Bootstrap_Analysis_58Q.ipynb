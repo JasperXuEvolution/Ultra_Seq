{
 "cells": [
  {
   "cell_type": "markdown",
   "id": "5e893eb2-cbe6-40f0-85f8-a39ae8dd6a3f",
   "metadata": {},
   "source": [
    "## 1 Functions and module"
   ]
  },
  {
   "cell_type": "markdown",
   "id": "4d67ce7d-16a6-4ee3-893f-1c68a55e61be",
   "metadata": {},
   "source": [
    "### 1.1 Modules"
   ]
  },
  {
   "cell_type": "code",
   "execution_count": 1,
   "id": "8759bf27-7d01-4630-8e2a-f3e2b27f84e4",
   "metadata": {
    "execution": {
     "iopub.execute_input": "2023-05-05T00:06:37.251127Z",
     "iopub.status.busy": "2023-05-05T00:06:37.250797Z",
     "iopub.status.idle": "2023-05-05T00:06:38.790634Z",
     "shell.execute_reply": "2023-05-05T00:06:38.790189Z",
     "shell.execute_reply.started": "2023-05-05T00:06:37.251102Z"
    },
    "tags": []
   },
   "outputs": [],
   "source": [
    "import pandas as pd\n",
    "import numpy as np\n",
    "import copy\n",
    "import scipy\n",
    "import math"
   ]
  },
  {
   "cell_type": "markdown",
   "id": "a32a100b-bd24-4eb8-94d1-65f9b2f6ede4",
   "metadata": {},
   "source": [
    "### 1.2 Functions"
   ]
  },
  {
   "cell_type": "code",
   "execution_count": 2,
   "id": "5ccc3719-1c8d-4cbf-ad27-3e16718f107b",
   "metadata": {
    "execution": {
     "iopub.execute_input": "2023-05-05T00:06:38.793775Z",
     "iopub.status.busy": "2023-05-05T00:06:38.793086Z",
     "iopub.status.idle": "2023-05-05T00:06:38.800392Z",
     "shell.execute_reply": "2023-05-05T00:06:38.799160Z",
     "shell.execute_reply.started": "2023-05-05T00:06:38.793747Z"
    },
    "tags": []
   },
   "outputs": [],
   "source": [
    "def fdr(p_vals):\n",
    "    from scipy.stats import rankdata\n",
    "    p = np.asfarray(p_vals) # make input as float array\n",
    "    by_descend = p.argsort()[::-1]\n",
    "    by_orig = by_descend.argsort()\n",
    "    p = p[by_descend] # sort pvalue from small to large\n",
    "    ranked_p_values = rankdata(p,method ='max') # this max is very important, when identical, use largest\n",
    "    fdr = p * len(p) / ranked_p_values\n",
    "    fdr = np.minimum(1, np.minimum.accumulate(fdr))\n",
    "\n",
    "    return fdr[by_orig]"
   ]
  },
  {
   "cell_type": "code",
   "execution_count": 3,
   "id": "4d79515e-bc70-4714-90cf-943cb7c8ba98",
   "metadata": {
    "execution": {
     "iopub.execute_input": "2023-05-05T00:06:38.802088Z",
     "iopub.status.busy": "2023-05-05T00:06:38.801874Z",
     "iopub.status.idle": "2023-05-05T00:06:38.811179Z",
     "shell.execute_reply": "2023-05-05T00:06:38.808940Z",
     "shell.execute_reply.started": "2023-05-05T00:06:38.802072Z"
    },
    "tags": []
   },
   "outputs": [],
   "source": [
    "def Generate_simplified(input_df):\n",
    "    temp_q = [50,60,70,80,90,95,97,99]\n",
    "    temp_trait_list = ['LN_mean_relative','Geo_mean_relative','TTB_normalized_relative','TTN_normalized_relative','95_percentile_relative'] + [str(x) + '_percentile_relative' for x in temp_q]\n",
    "    temp_trait_list = list(set(temp_trait_list))\n",
    "    temp_list = []\n",
    "    for temp_trait in temp_trait_list:\n",
    "        temp0 = temp_trait + '_97.5P'\n",
    "        temp1 = temp_trait + '_2.5P'\n",
    "        temp2 = temp_trait +'_bootstrap_mean'\n",
    "        temp3 = temp_trait +'_pvalue'\n",
    "        temp4 = temp_trait +'_pvalue_FDR'\n",
    "        temp5 = temp_trait +'_bootstrap_median'\n",
    "        temp_list.append(temp_trait)\n",
    "        temp_list.append(temp0)\n",
    "        temp_list.append(temp1)\n",
    "        temp_list.append(temp2)\n",
    "        temp_list.append(temp3)\n",
    "        temp_list.append(temp4)\n",
    "        temp_list.append(temp5)\n",
    "    return input_df[['Targeted_gene_name','Numbered_gene_name','gRNA','Type'] +sorted(temp_list)]"
   ]
  },
  {
   "cell_type": "code",
   "execution_count": 4,
   "id": "1f6b7a33-b487-4e10-90e1-c61ac56dcd2b",
   "metadata": {
    "execution": {
     "iopub.execute_input": "2023-05-05T00:06:38.814849Z",
     "iopub.status.busy": "2023-05-05T00:06:38.814489Z",
     "iopub.status.idle": "2023-05-05T00:06:38.822898Z",
     "shell.execute_reply": "2023-05-05T00:06:38.820925Z",
     "shell.execute_reply.started": "2023-05-05T00:06:38.814831Z"
    },
    "tags": []
   },
   "outputs": [],
   "source": [
    "def Generate_LN_mean_table(input_df):\n",
    "    # generate a LN mean specific data table\n",
    "    temp_trait1 = ['gRNA','Targeted_gene_name','Numbered_gene_name','Type']\n",
    "    temp_trait2 = [x for x in raw_input_df.columns if 'LN_mean' in x]\n",
    "    output_df = copy.deepcopy(input_df[temp_trait1+temp_trait2])\n",
    "    return(output_df)"
   ]
  },
  {
   "cell_type": "code",
   "execution_count": 5,
   "id": "8b050fa4-315f-4af8-933f-1124a078f76a",
   "metadata": {
    "execution": {
     "iopub.execute_input": "2023-05-05T00:06:38.824805Z",
     "iopub.status.busy": "2023-05-05T00:06:38.824227Z",
     "iopub.status.idle": "2023-05-05T00:06:38.831441Z",
     "shell.execute_reply": "2023-05-05T00:06:38.830825Z",
     "shell.execute_reply.started": "2023-05-05T00:06:38.824737Z"
    },
    "tags": []
   },
   "outputs": [],
   "source": [
    "def Generate_Percentile_table(input_df):\n",
    "    # generate a LN mean specific data table\n",
    "    temp_q = [50,60,70,80,90,95,97,99]\n",
    "    temp_list = []\n",
    "    for x in temp_q:\n",
    "        temp = str(x)+'_percentile_relative'\n",
    "        temp_1 = temp +'_2.5P'\n",
    "        temp_2 = temp +'_bootstrap_mean'\n",
    "        temp_3 = temp +'_97.5P'\n",
    "        temp_4 = temp + '_pvalue'\n",
    "        temp_5 = temp + '_pvalue_FDR'\n",
    "        temp_6 = temp + '_bootstrap_median'\n",
    "        temp_7 = temp + '_pvalue_twoside'\n",
    "        temp_8 = temp + '_pvalue_twoside_FDR'\n",
    "        temp_list.append(temp)\n",
    "        temp_list.append(temp_1)\n",
    "        temp_list.append(temp_2)\n",
    "        temp_list.append(temp_3)\n",
    "        temp_list.append(temp_4)\n",
    "        temp_list.append(temp_5)\n",
    "        temp_list.append(temp_6)\n",
    "        temp_list.append(temp_7)\n",
    "        temp_list.append(temp_8)\n",
    "    temp_trait = ['gRNA','Targeted_gene_name','Numbered_gene_name','Type'] + temp_list\n",
    "    output_df = copy.deepcopy(input_df[temp_trait])\n",
    "    return(output_df)"
   ]
  },
  {
   "cell_type": "code",
   "execution_count": 6,
   "id": "4de0e5a3-0ba2-4925-abfb-91936719e8f4",
   "metadata": {
    "execution": {
     "iopub.execute_input": "2023-05-05T00:06:40.023198Z",
     "iopub.status.busy": "2023-05-05T00:06:40.022601Z",
     "iopub.status.idle": "2023-05-05T00:06:40.027962Z",
     "shell.execute_reply": "2023-05-05T00:06:40.027471Z",
     "shell.execute_reply.started": "2023-05-05T00:06:40.023165Z"
    },
    "tags": []
   },
   "outputs": [],
   "source": [
    "def Generate_Tumor_number_table(input_df):\n",
    "    # generate a LN mean specific data table\n",
    "    temp_trait1 = ['gRNA','Targeted_gene_name','Numbered_gene_name','Type']\n",
    "    temp_trait2 = [x for x in raw_input_df.columns if 'TTN' in x]\n",
    "    output_df = copy.deepcopy(input_df[temp_trait1+temp_trait2])\n",
    "    return(output_df)"
   ]
  },
  {
   "cell_type": "code",
   "execution_count": 7,
   "id": "38a24e6f-691a-4264-8025-4af628294e05",
   "metadata": {
    "execution": {
     "iopub.execute_input": "2023-05-05T00:06:40.207464Z",
     "iopub.status.busy": "2023-05-05T00:06:40.207211Z",
     "iopub.status.idle": "2023-05-05T00:06:40.210886Z",
     "shell.execute_reply": "2023-05-05T00:06:40.210333Z",
     "shell.execute_reply.started": "2023-05-05T00:06:40.207446Z"
    },
    "tags": []
   },
   "outputs": [],
   "source": [
    "def Generate_Tumor_burden_table(input_df):\n",
    "    # generate a LN mean specific data table\n",
    "    temp_trait1 = ['gRNA','Targeted_gene_name','Numbered_gene_name','Type']\n",
    "    temp_trait2 = [x for x in raw_input_df.columns if 'TTB' in x]\n",
    "    output_df = copy.deepcopy(input_df[temp_trait1+temp_trait2])\n",
    "    return(output_df)"
   ]
  },
  {
   "cell_type": "code",
   "execution_count": 8,
   "id": "40d03ffd-9d67-443e-8463-0ae2cbcb67a1",
   "metadata": {
    "execution": {
     "iopub.execute_input": "2023-05-05T00:06:40.471198Z",
     "iopub.status.busy": "2023-05-05T00:06:40.470761Z",
     "iopub.status.idle": "2023-05-05T00:06:40.475464Z",
     "shell.execute_reply": "2023-05-05T00:06:40.474967Z",
     "shell.execute_reply.started": "2023-05-05T00:06:40.471176Z"
    },
    "tags": []
   },
   "outputs": [],
   "source": [
    "def Generate_seperate_table(input_df,input_mouse_type,input_screening):\n",
    "    # genereate seperate table for four metrics\n",
    "    df1 = Generate_LN_mean_table(input_df)\n",
    "    df1['Mouse_genotype'] = input_mouse_type\n",
    "    df1['Screening'] = input_screening\n",
    "    df2 = Generate_Percentile_table(input_df)\n",
    "    df2['Mouse_genotype'] = input_mouse_type\n",
    "    df2['Screening'] = input_screening\n",
    "    df3 = Generate_Tumor_number_table(input_df)\n",
    "    df3['Mouse_genotype'] = input_mouse_type\n",
    "    df3['Screening'] = input_screening\n",
    "    df4 = Generate_Tumor_burden_table(input_df)\n",
    "    df4['Mouse_genotype'] = input_mouse_type\n",
    "    df4['Screening'] = input_screening\n",
    "    return df1,df2,df3,df4"
   ]
  },
  {
   "cell_type": "code",
   "execution_count": 9,
   "id": "21f259b2-a6ee-4581-846b-09df4482a56d",
   "metadata": {
    "execution": {
     "iopub.execute_input": "2023-05-05T00:06:40.987183Z",
     "iopub.status.busy": "2023-05-05T00:06:40.986883Z",
     "iopub.status.idle": "2023-05-05T00:06:40.991353Z",
     "shell.execute_reply": "2023-05-05T00:06:40.990898Z",
     "shell.execute_reply.started": "2023-05-05T00:06:40.987160Z"
    },
    "tags": []
   },
   "outputs": [],
   "source": [
    "def Cal_Combined_Effect(x,bootstrap_N):\n",
    "    d = {}\n",
    "    temp_trait_of_interest = ['LN_mean_relative_bootstrap_mean','TTB_normalized_relative_bootstrap_mean','95_percentile_relative_bootstrap_mean','TTN_normalized_relative_bootstrap_mean'] # this is the list that I am interested to study gene level effect\n",
    "    temp_weight_list = x['TTN_normalized_relative']\n",
    "    for temp_trait in temp_trait_of_interest:\n",
    "        d[temp_trait.replace('_bootstrap_mean','_score')] = sum(x[temp_trait]*temp_weight_list/sum(temp_weight_list))\n",
    "        d[temp_trait.replace('_bootstrap_mean','_pvalue')] = Stouffer_Test(x[temp_trait.replace('_bootstrap_mean','_pvalue')],temp_weight_list,bootstrap_N)\n",
    "        d[temp_trait.replace('_bootstrap_mean','_pvalue_twoside')] = Stouffer_Test(x[temp_trait.replace('_bootstrap_mean','_pvalue_twoside')],temp_weight_list,bootstrap_N)\n",
    "    return pd.Series(d, index=list(d.keys())) "
   ]
  },
  {
   "cell_type": "code",
   "execution_count": 10,
   "id": "db56a2ef-0721-45aa-83c0-612264da21f3",
   "metadata": {
    "execution": {
     "iopub.execute_input": "2023-05-05T00:06:41.165293Z",
     "iopub.status.busy": "2023-05-05T00:06:41.164865Z",
     "iopub.status.idle": "2023-05-05T00:06:41.169537Z",
     "shell.execute_reply": "2023-05-05T00:06:41.168889Z",
     "shell.execute_reply.started": "2023-05-05T00:06:41.165275Z"
    },
    "tags": []
   },
   "outputs": [],
   "source": [
    "def Stouffer_Test(input_pvalue_list,input_weight,bootstrap_N):\n",
    "    # this function combine pvalue using the Stouffer weighted Z \n",
    "    temp_corrected_p_list = []\n",
    "    for tp in input_pvalue_list:\n",
    "        if tp ==1:\n",
    "            temp_corrected_p_list.append(1-1/bootstrap_N) #compensate for p=1\n",
    "        elif tp == 0:\n",
    "            temp_corrected_p_list.append(0+1/bootstrap_N)#compensate for p=0\n",
    "        else:\n",
    "            temp_corrected_p_list.append(tp)\n",
    "    z_score = scipy.stats.norm.ppf(temp_corrected_p_list)# use Percent point function to calculate z score based on pvalue\n",
    "    z_weighted = sum(np.array(input_weight)*z_score)/math.sqrt(sum(np.array(input_weight)**2)) # calculate weighted z_score\n",
    "    stouffer_alpha  = scipy.stats.norm.cdf(z_weighted)\n",
    "    return(stouffer_alpha)"
   ]
  },
  {
   "cell_type": "code",
   "execution_count": 11,
   "id": "d8865d8b-fdf7-4713-bb98-22cedc36e530",
   "metadata": {
    "execution": {
     "iopub.execute_input": "2023-05-05T00:06:41.447677Z",
     "iopub.status.busy": "2023-05-05T00:06:41.447415Z",
     "iopub.status.idle": "2023-05-05T00:06:41.451674Z",
     "shell.execute_reply": "2023-05-05T00:06:41.451128Z",
     "shell.execute_reply.started": "2023-05-05T00:06:41.447661Z"
    },
    "tags": []
   },
   "outputs": [],
   "source": [
    "def Generate_Gene_Level_Effect(input_df,bootstrap_N):\n",
    "    temp_df = input_df.groupby(['Targeted_gene_name', 'Type'],as_index = False).apply(Cal_Combined_Effect,(bootstrap_N))\n",
    "    temp_trait_of_interest = ['LN_mean_relative','TTB_normalized_relative','95_percentile_relative','TTN_normalized_relative']\n",
    "    for temp_trait in temp_trait_of_interest:\n",
    "        temp_name1 = temp_trait + '_pvalue'\n",
    "        temp_name2 = temp_name1 + '_FDR'\n",
    "        temp_name3 = temp_name1 + '_twoside'\n",
    "        temp_name4 = temp_name1 + '_twoside_FDR'\n",
    "        temp_df[temp_name2] = fdr(temp_df[temp_name1])\n",
    "        temp_df[temp_name4] = fdr(temp_df[temp_name3])\n",
    "    return(temp_df)"
   ]
  },
  {
   "cell_type": "markdown",
   "id": "1c9bda37-9fcc-4e01-a825-00084cb55c3b",
   "metadata": {},
   "source": [
    "---"
   ]
  },
  {
   "cell_type": "markdown",
   "id": "5623c545-ce9b-47ab-9e85-e4f0e570b204",
   "metadata": {},
   "source": [
    "## 2 Input and Output address "
   ]
  },
  {
   "cell_type": "markdown",
   "id": "2eb1b580-50ce-4a44-8d8e-fc3582a460d1",
   "metadata": {},
   "source": [
    "### 2.1 Input"
   ]
  },
  {
   "cell_type": "code",
   "execution_count": 12,
   "id": "a53f75bd-b56e-48ad-91ac-24f24732c9ae",
   "metadata": {
    "execution": {
     "iopub.execute_input": "2023-05-05T00:06:56.189029Z",
     "iopub.status.busy": "2023-05-05T00:06:56.187421Z",
     "iopub.status.idle": "2023-05-05T00:06:56.195148Z",
     "shell.execute_reply": "2023-05-05T00:06:56.194483Z",
     "shell.execute_reply.started": "2023-05-05T00:06:56.188925Z"
    },
    "tags": []
   },
   "outputs": [],
   "source": [
    "##### combined barcode dataframe address\n",
    "parent_address = \"Data/\"\n",
    "# input bootstrapped data\n",
    "input_df_address = parent_address + \"Chromatin_58Q/Chromatin_58Q_bootstrapping_result_summary.csv\"\n",
    "# the name of this screening\n",
    "input_screen_name = '58Q'"
   ]
  },
  {
   "cell_type": "markdown",
   "id": "ee565423-a559-4b6a-8f47-e4d3e9e92953",
   "metadata": {},
   "source": [
    "### 2.2 Output "
   ]
  },
  {
   "cell_type": "code",
   "execution_count": 13,
   "id": "a507bbad-75e9-4c8b-89ea-2855ff609711",
   "metadata": {
    "execution": {
     "iopub.execute_input": "2023-05-05T00:07:19.493198Z",
     "iopub.status.busy": "2023-05-05T00:07:19.491834Z",
     "iopub.status.idle": "2023-05-05T00:07:19.500571Z",
     "shell.execute_reply": "2023-05-05T00:07:19.499660Z",
     "shell.execute_reply.started": "2023-05-05T00:07:19.493130Z"
    },
    "tags": []
   },
   "outputs": [],
   "source": [
    "# parental address for output\n",
    "Output_parental_address = \"Data/Chromatin_58Q/\"\n",
    "Output_address_header = \"Chromatin_58Q\"\n",
    "\n",
    "# address for sgRNA df output\n",
    "temp_a = Output_parental_address + Output_address_header + \"_sgRNA_result_final.csv\"\n",
    "\n",
    "# address for sgRNA seperate table\n",
    "LN_mean_output_address = Output_parental_address + Output_address_header + \"_summary_table_LN_mean.csv\"\n",
    "Percentile_output_address = Output_parental_address + Output_address_header + \"_summary_table_Percentile.csv\"\n",
    "TTN_output_address = Output_parental_address + Output_address_header + \"_summary_table_TTN.csv\"\n",
    "TTB_output_address = Output_parental_address + Output_address_header + \"_summary_table_TTB.csv\"\n",
    "\n",
    "# gene level output address\n",
    "temp_b = Output_parental_address + Output_address_header + \"_gene_result_final.csv\""
   ]
  },
  {
   "cell_type": "markdown",
   "id": "5bf5e72e-420f-4ec9-8826-3e0d978f238d",
   "metadata": {},
   "source": [
    "## 3 Read data"
   ]
  },
  {
   "cell_type": "code",
   "execution_count": 21,
   "id": "08e95fdd-1e8e-436e-a5a8-d4590ccdfeae",
   "metadata": {
    "execution": {
     "iopub.execute_input": "2023-05-05T00:08:07.843862Z",
     "iopub.status.busy": "2023-05-05T00:08:07.842849Z",
     "iopub.status.idle": "2023-05-05T00:08:07.881459Z",
     "shell.execute_reply": "2023-05-05T00:08:07.880884Z",
     "shell.execute_reply.started": "2023-05-05T00:08:07.843823Z"
    },
    "tags": []
   },
   "outputs": [],
   "source": [
    "# chromatin data\n",
    "raw_input_df = Generate_simplified(pd.read_csv(input_df_address))"
   ]
  },
  {
   "cell_type": "markdown",
   "id": "fbe9a116-7842-4be0-8853-649a9d17cdc3",
   "metadata": {
    "tags": []
   },
   "source": [
    "### 3.1 I correct pvalues"
   ]
  },
  {
   "cell_type": "code",
   "execution_count": 22,
   "id": "a6a12fe2-f825-4e1d-8bd6-a489dc0ad07d",
   "metadata": {
    "execution": {
     "iopub.execute_input": "2023-05-05T00:08:08.265308Z",
     "iopub.status.busy": "2023-05-05T00:08:08.264892Z",
     "iopub.status.idle": "2023-05-05T00:08:08.277566Z",
     "shell.execute_reply": "2023-05-05T00:08:08.277124Z",
     "shell.execute_reply.started": "2023-05-05T00:08:08.265282Z"
    },
    "tags": []
   },
   "outputs": [],
   "source": [
    "temp_df = raw_input_df\n",
    "temp_c = [x for x in temp_df.columns if ('pvalue' in x)&( 'FDR' not in x)]\n",
    "for x in temp_c:\n",
    "    temp_df[x] = temp_df[x].apply(lambda x: min(x,1-x))\n",
    "raw_input_df = temp_df"
   ]
  },
  {
   "cell_type": "markdown",
   "id": "19a3ea8b-678f-4745-8528-ba3e835f2d50",
   "metadata": {},
   "source": [
    "### 3.2 Filter out genes from other people's data"
   ]
  },
  {
   "cell_type": "code",
   "execution_count": 23,
   "id": "87c1b1d5-b448-4e10-9357-3d51774bafd1",
   "metadata": {
    "execution": {
     "iopub.execute_input": "2023-05-05T00:08:08.610575Z",
     "iopub.status.busy": "2023-05-05T00:08:08.610006Z",
     "iopub.status.idle": "2023-05-05T00:08:08.613480Z",
     "shell.execute_reply": "2023-05-05T00:08:08.612829Z",
     "shell.execute_reply.started": "2023-05-05T00:08:08.610554Z"
    },
    "tags": []
   },
   "outputs": [],
   "source": [
    "# ref: https://docs.google.com/spreadsheets/d/1ucg3jBUXZMwZIv3QZhJ41Ne0RTrujqQ3/edit#gid=1593778826"
   ]
  },
  {
   "cell_type": "code",
   "execution_count": 24,
   "id": "82f33012-46b5-4806-b612-518535df6c9f",
   "metadata": {
    "execution": {
     "iopub.execute_input": "2023-05-05T00:08:08.791006Z",
     "iopub.status.busy": "2023-05-05T00:08:08.790762Z",
     "iopub.status.idle": "2023-05-05T00:08:08.794240Z",
     "shell.execute_reply": "2023-05-05T00:08:08.793708Z",
     "shell.execute_reply.started": "2023-05-05T00:08:08.790990Z"
    },
    "tags": []
   },
   "outputs": [],
   "source": [
    "Gene_to_exclude_raw = ['CELSR1','CELSR2','VANGL1','Ptpn14','Cdkn1a','Gss',\n",
    "                   'IFT80','CEP290','KIF3A','TULP3','IFT140','Stag1','Smc3','Smc1a',\n",
    "                  'Nipbl','Mau2','Wapl','Pds5a','Rad21','OTUD5','UBE2Q1','MSI2','C7orf26',\n",
    "                      'ZZZ3','RSU1','GCLC','WNK1','Sty1','Zmat3','Stag2']\n",
    "#Sty1 is a typo version of gene Sytl1\n",
    "Gene_to_exclude = [x.capitalize() for x in Gene_to_exclude_raw]"
   ]
  },
  {
   "cell_type": "code",
   "execution_count": 25,
   "id": "ae823700-a31c-4a44-a51d-01073de298aa",
   "metadata": {
    "execution": {
     "iopub.execute_input": "2023-05-05T00:08:08.979049Z",
     "iopub.status.busy": "2023-05-05T00:08:08.978637Z",
     "iopub.status.idle": "2023-05-05T00:08:08.983218Z",
     "shell.execute_reply": "2023-05-05T00:08:08.982686Z",
     "shell.execute_reply.started": "2023-05-05T00:08:08.979032Z"
    },
    "tags": []
   },
   "outputs": [],
   "source": [
    "raw_input_df = raw_input_df[~raw_input_df.Targeted_gene_name.isin(Gene_to_exclude)].copy()"
   ]
  },
  {
   "cell_type": "markdown",
   "id": "a2081d33-24d5-4359-92c8-899b4baa9f30",
   "metadata": {},
   "source": [
    "### 3.3 Recalculate two side pvalue and FDR"
   ]
  },
  {
   "cell_type": "code",
   "execution_count": 26,
   "id": "948e87a7-40da-461d-ad99-31dee2278be7",
   "metadata": {
    "execution": {
     "iopub.execute_input": "2023-05-05T00:08:09.527280Z",
     "iopub.status.busy": "2023-05-05T00:08:09.526933Z",
     "iopub.status.idle": "2023-05-05T00:08:10.171077Z",
     "shell.execute_reply": "2023-05-05T00:08:10.170662Z",
     "shell.execute_reply.started": "2023-05-05T00:08:09.527246Z"
    },
    "tags": []
   },
   "outputs": [],
   "source": [
    "temp_df = raw_input_df\n",
    "temp_c = [x for x in temp_df.columns if ('pvalue' in x)&( 'FDR' not in x)]\n",
    "for x in temp_c:\n",
    "    temp_df[x +'_FDR'] = fdr(temp_df[x])\n",
    "    temp_df[x +'_twoside'] = temp_df[x]*2\n",
    "    temp_df[x +'_twoside_FDR'] = fdr(temp_df[x +'_twoside'])\n",
    "Final_sgRNA_df = temp_df"
   ]
  },
  {
   "cell_type": "markdown",
   "id": "773b232c-5b88-4d25-890b-963a2d0551bf",
   "metadata": {},
   "source": [
    "## 4 Generate metric specific table"
   ]
  },
  {
   "cell_type": "markdown",
   "id": "e1519d11-ba27-4c89-80f5-c517dd6056aa",
   "metadata": {},
   "source": [
    "### 4.1 Initial screening"
   ]
  },
  {
   "cell_type": "code",
   "execution_count": 27,
   "id": "e3940ec9-19fd-406b-a309-07fe687aa6f2",
   "metadata": {
    "execution": {
     "iopub.execute_input": "2023-05-05T00:08:12.747396Z",
     "iopub.status.busy": "2023-05-05T00:08:12.746964Z",
     "iopub.status.idle": "2023-05-05T00:08:12.756701Z",
     "shell.execute_reply": "2023-05-05T00:08:12.756242Z",
     "shell.execute_reply.started": "2023-05-05T00:08:12.747369Z"
    },
    "tags": []
   },
   "outputs": [],
   "source": [
    "LN_mean,Percentile,TTN,TTB = Generate_seperate_table(Final_sgRNA_df,'KTC',input_screen_name)"
   ]
  },
  {
   "cell_type": "markdown",
   "id": "87d82a75-5d9a-48d8-940a-a9baca14fc85",
   "metadata": {},
   "source": [
    "## 5 Gene level effect"
   ]
  },
  {
   "cell_type": "code",
   "execution_count": 28,
   "id": "b9292515-358f-43b3-93ad-5aedb8c7207f",
   "metadata": {
    "execution": {
     "iopub.execute_input": "2023-05-05T00:08:13.638637Z",
     "iopub.status.busy": "2023-05-05T00:08:13.638248Z",
     "iopub.status.idle": "2023-05-05T00:08:14.235620Z",
     "shell.execute_reply": "2023-05-05T00:08:14.235196Z",
     "shell.execute_reply.started": "2023-05-05T00:08:13.638614Z"
    },
    "tags": []
   },
   "outputs": [],
   "source": [
    "Gene_level_df = Generate_Gene_Level_Effect(raw_input_df,1000)"
   ]
  },
  {
   "cell_type": "markdown",
   "id": "41a46cc4-8b83-4d0a-85bb-405a5f3bbd1d",
   "metadata": {},
   "source": [
    "---"
   ]
  },
  {
   "cell_type": "markdown",
   "id": "b68b7332-26e9-4f25-8415-2f197f0a097c",
   "metadata": {},
   "source": [
    "## 5 Output_data"
   ]
  },
  {
   "cell_type": "code",
   "execution_count": 29,
   "id": "a2bb6a0e-b3c2-4f42-ba15-9ebf6bdfacc6",
   "metadata": {
    "execution": {
     "iopub.execute_input": "2023-05-05T00:08:14.839406Z",
     "iopub.status.busy": "2023-05-05T00:08:14.838934Z",
     "iopub.status.idle": "2023-05-05T00:08:15.027995Z",
     "shell.execute_reply": "2023-05-05T00:08:15.027438Z",
     "shell.execute_reply.started": "2023-05-05T00:08:14.839367Z"
    },
    "tags": []
   },
   "outputs": [],
   "source": [
    "raw_input_df.to_csv(temp_a,index = False)\n",
    "LN_mean.to_csv(LN_mean_output_address,index = False)\n",
    "TTN.to_csv(TTN_output_address,index = False)\n",
    "TTB.to_csv(TTB_output_address,index = False)\n",
    "Percentile.to_csv(Percentile_output_address,index = False)\n",
    "Gene_level_df.to_csv(temp_b,index = False)"
   ]
  },
  {
   "cell_type": "code",
   "execution_count": null,
   "id": "cbf16f32-f9c5-4c23-adb9-12823279525d",
   "metadata": {},
   "outputs": [],
   "source": []
  },
  {
   "cell_type": "code",
   "execution_count": null,
   "id": "c2f8fa52-8234-45a6-b7f9-6c06f8300e4f",
   "metadata": {},
   "outputs": [],
   "source": []
  },
  {
   "cell_type": "code",
   "execution_count": null,
   "id": "dbf9c03b-464c-48f4-8450-5b30406f3458",
   "metadata": {},
   "outputs": [],
   "source": []
  },
  {
   "cell_type": "code",
   "execution_count": null,
   "id": "d65a5632-8740-4609-abe1-07507ae571cc",
   "metadata": {},
   "outputs": [],
   "source": []
  }
 ],
 "metadata": {
  "kernelspec": {
   "display_name": "HX_basic",
   "language": "python",
   "name": "hx_basic"
  },
  "language_info": {
   "codemirror_mode": {
    "name": "ipython",
    "version": 3
   },
   "file_extension": ".py",
   "mimetype": "text/x-python",
   "name": "python",
   "nbconvert_exporter": "python",
   "pygments_lexer": "ipython3",
   "version": "3.10.6"
  }
 },
 "nbformat": 4,
 "nbformat_minor": 5
}
