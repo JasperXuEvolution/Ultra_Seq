{
 "cells": [
  {
   "cell_type": "markdown",
   "id": "5e893eb2-cbe6-40f0-85f8-a39ae8dd6a3f",
   "metadata": {},
   "source": [
    "## 1 Functions and module"
   ]
  },
  {
   "cell_type": "markdown",
   "id": "4d67ce7d-16a6-4ee3-893f-1c68a55e61be",
   "metadata": {},
   "source": [
    "### 1.1 Modules"
   ]
  },
  {
   "cell_type": "code",
   "execution_count": 1,
   "id": "8759bf27-7d01-4630-8e2a-f3e2b27f84e4",
   "metadata": {
    "execution": {
     "iopub.execute_input": "2023-05-05T00:08:21.475836Z",
     "iopub.status.busy": "2023-05-05T00:08:21.475385Z",
     "iopub.status.idle": "2023-05-05T00:08:22.534279Z",
     "shell.execute_reply": "2023-05-05T00:08:22.533824Z",
     "shell.execute_reply.started": "2023-05-05T00:08:21.475805Z"
    },
    "tags": []
   },
   "outputs": [],
   "source": [
    "import pandas as pd\n",
    "import numpy as np\n",
    "import copy\n",
    "import scipy\n",
    "import math"
   ]
  },
  {
   "cell_type": "markdown",
   "id": "a32a100b-bd24-4eb8-94d1-65f9b2f6ede4",
   "metadata": {},
   "source": [
    "### 1.2 Functions"
   ]
  },
  {
   "cell_type": "code",
   "execution_count": 2,
   "id": "5ccc3719-1c8d-4cbf-ad27-3e16718f107b",
   "metadata": {
    "execution": {
     "iopub.execute_input": "2023-05-05T00:08:22.535581Z",
     "iopub.status.busy": "2023-05-05T00:08:22.535362Z",
     "iopub.status.idle": "2023-05-05T00:08:22.539481Z",
     "shell.execute_reply": "2023-05-05T00:08:22.539069Z",
     "shell.execute_reply.started": "2023-05-05T00:08:22.535565Z"
    },
    "tags": []
   },
   "outputs": [],
   "source": [
    "def fdr(p_vals):\n",
    "    from scipy.stats import rankdata\n",
    "    p = np.asfarray(p_vals) # make input as float array\n",
    "    by_descend = p.argsort()[::-1]\n",
    "    by_orig = by_descend.argsort()\n",
    "    p = p[by_descend] # sort pvalue from small to large\n",
    "    ranked_p_values = rankdata(p,method ='max') # this max is very important, when identical, use largest\n",
    "    fdr = p * len(p) / ranked_p_values\n",
    "    fdr = np.minimum(1, np.minimum.accumulate(fdr))\n",
    "\n",
    "    return fdr[by_orig]"
   ]
  },
  {
   "cell_type": "code",
   "execution_count": 3,
   "id": "4d79515e-bc70-4714-90cf-943cb7c8ba98",
   "metadata": {
    "execution": {
     "iopub.execute_input": "2023-05-05T00:08:22.540290Z",
     "iopub.status.busy": "2023-05-05T00:08:22.540157Z",
     "iopub.status.idle": "2023-05-05T00:08:22.544814Z",
     "shell.execute_reply": "2023-05-05T00:08:22.544324Z",
     "shell.execute_reply.started": "2023-05-05T00:08:22.540277Z"
    },
    "tags": []
   },
   "outputs": [],
   "source": [
    "def Generate_simplified(input_df):\n",
    "    temp_q = [50,60,70,80,90,95,97,99]\n",
    "    temp_trait_list = ['LN_mean_relative','Geo_mean_relative','TTB_normalized_relative','TTN_normalized_relative','95_percentile_relative'] + [str(x) + '_percentile_relative' for x in temp_q]\n",
    "    temp_trait_list = list(set(temp_trait_list))\n",
    "    temp_list = []\n",
    "    for temp_trait in temp_trait_list:\n",
    "        temp0 = temp_trait + '_97.5P'\n",
    "        temp1 = temp_trait + '_2.5P'\n",
    "        temp2 = temp_trait +'_bootstrap_mean'\n",
    "        temp3 = temp_trait +'_pvalue'\n",
    "        temp4 = temp_trait +'_pvalue_FDR'\n",
    "        temp5 = temp_trait +'_bootstrap_median'\n",
    "        temp_list.append(temp_trait)\n",
    "        temp_list.append(temp0)\n",
    "        temp_list.append(temp1)\n",
    "        temp_list.append(temp2)\n",
    "        temp_list.append(temp3)\n",
    "        temp_list.append(temp4)\n",
    "        temp_list.append(temp5)\n",
    "    return input_df[['Targeted_gene_name','Numbered_gene_name','gRNA','Type'] +sorted(temp_list)]"
   ]
  },
  {
   "cell_type": "code",
   "execution_count": 4,
   "id": "1f6b7a33-b487-4e10-90e1-c61ac56dcd2b",
   "metadata": {
    "execution": {
     "iopub.execute_input": "2023-05-05T00:08:22.546406Z",
     "iopub.status.busy": "2023-05-05T00:08:22.546225Z",
     "iopub.status.idle": "2023-05-05T00:08:22.549144Z",
     "shell.execute_reply": "2023-05-05T00:08:22.548750Z",
     "shell.execute_reply.started": "2023-05-05T00:08:22.546390Z"
    },
    "tags": []
   },
   "outputs": [],
   "source": [
    "def Generate_LN_mean_table(input_df):\n",
    "    # generate a LN mean specific data table\n",
    "    temp_trait1 = ['gRNA','Targeted_gene_name','Numbered_gene_name','Type']\n",
    "    temp_trait2 = [x for x in raw_input_df.columns if 'LN_mean' in x]\n",
    "    output_df = copy.deepcopy(input_df[temp_trait1+temp_trait2])\n",
    "    return(output_df)"
   ]
  },
  {
   "cell_type": "code",
   "execution_count": 5,
   "id": "8b050fa4-315f-4af8-933f-1124a078f76a",
   "metadata": {
    "execution": {
     "iopub.execute_input": "2023-05-05T00:08:22.593280Z",
     "iopub.status.busy": "2023-05-05T00:08:22.592905Z",
     "iopub.status.idle": "2023-05-05T00:08:22.597634Z",
     "shell.execute_reply": "2023-05-05T00:08:22.597149Z",
     "shell.execute_reply.started": "2023-05-05T00:08:22.593264Z"
    },
    "tags": []
   },
   "outputs": [],
   "source": [
    "def Generate_Percentile_table(input_df):\n",
    "    # generate a LN mean specific data table\n",
    "    temp_q = [50,60,70,80,90,95,97,99]\n",
    "    temp_list = []\n",
    "    for x in temp_q:\n",
    "        temp = str(x)+'_percentile_relative'\n",
    "        temp_1 = temp +'_2.5P'\n",
    "        temp_2 = temp +'_bootstrap_mean'\n",
    "        temp_3 = temp +'_97.5P'\n",
    "        temp_4 = temp + '_pvalue'\n",
    "        temp_5 = temp + '_pvalue_FDR'\n",
    "        temp_6 = temp + '_bootstrap_median'\n",
    "        temp_7 = temp + '_pvalue_twoside'\n",
    "        temp_8 = temp + '_pvalue_twoside_FDR'\n",
    "        temp_list.append(temp)\n",
    "        temp_list.append(temp_1)\n",
    "        temp_list.append(temp_2)\n",
    "        temp_list.append(temp_3)\n",
    "        temp_list.append(temp_4)\n",
    "        temp_list.append(temp_5)\n",
    "        temp_list.append(temp_6)\n",
    "        temp_list.append(temp_7)\n",
    "        temp_list.append(temp_8)\n",
    "    temp_trait = ['gRNA','Targeted_gene_name','Numbered_gene_name','Type'] + temp_list\n",
    "    output_df = copy.deepcopy(input_df[temp_trait])\n",
    "    return(output_df)"
   ]
  },
  {
   "cell_type": "code",
   "execution_count": 6,
   "id": "4de0e5a3-0ba2-4925-abfb-91936719e8f4",
   "metadata": {
    "execution": {
     "iopub.execute_input": "2023-05-05T00:08:24.449384Z",
     "iopub.status.busy": "2023-05-05T00:08:24.448896Z",
     "iopub.status.idle": "2023-05-05T00:08:24.453454Z",
     "shell.execute_reply": "2023-05-05T00:08:24.452872Z",
     "shell.execute_reply.started": "2023-05-05T00:08:24.449359Z"
    },
    "tags": []
   },
   "outputs": [],
   "source": [
    "def Generate_Tumor_number_table(input_df):\n",
    "    # generate a LN mean specific data table\n",
    "    temp_trait1 = ['gRNA','Targeted_gene_name','Numbered_gene_name','Type']\n",
    "    temp_trait2 = [x for x in raw_input_df.columns if 'TTN' in x]\n",
    "    output_df = copy.deepcopy(input_df[temp_trait1+temp_trait2])\n",
    "    return(output_df)"
   ]
  },
  {
   "cell_type": "code",
   "execution_count": 7,
   "id": "38a24e6f-691a-4264-8025-4af628294e05",
   "metadata": {
    "execution": {
     "iopub.execute_input": "2023-05-05T00:08:24.599344Z",
     "iopub.status.busy": "2023-05-05T00:08:24.599089Z",
     "iopub.status.idle": "2023-05-05T00:08:24.602632Z",
     "shell.execute_reply": "2023-05-05T00:08:24.601943Z",
     "shell.execute_reply.started": "2023-05-05T00:08:24.599326Z"
    },
    "tags": []
   },
   "outputs": [],
   "source": [
    "def Generate_Tumor_burden_table(input_df):\n",
    "    # generate a LN mean specific data table\n",
    "    temp_trait1 = ['gRNA','Targeted_gene_name','Numbered_gene_name','Type']\n",
    "    temp_trait2 = [x for x in raw_input_df.columns if 'TTB' in x]\n",
    "    output_df = copy.deepcopy(input_df[temp_trait1+temp_trait2])\n",
    "    return(output_df)"
   ]
  },
  {
   "cell_type": "code",
   "execution_count": 8,
   "id": "40d03ffd-9d67-443e-8463-0ae2cbcb67a1",
   "metadata": {
    "execution": {
     "iopub.execute_input": "2023-05-05T00:08:24.747623Z",
     "iopub.status.busy": "2023-05-05T00:08:24.747247Z",
     "iopub.status.idle": "2023-05-05T00:08:24.751595Z",
     "shell.execute_reply": "2023-05-05T00:08:24.750836Z",
     "shell.execute_reply.started": "2023-05-05T00:08:24.747605Z"
    },
    "tags": []
   },
   "outputs": [],
   "source": [
    "def Generate_seperate_table(input_df,input_mouse_type,input_screening):\n",
    "    # genereate seperate table for four metrics\n",
    "    df1 = Generate_LN_mean_table(input_df)\n",
    "    df1['Mouse_genotype'] = input_mouse_type\n",
    "    df1['Screening'] = input_screening\n",
    "    df2 = Generate_Percentile_table(input_df)\n",
    "    df2['Mouse_genotype'] = input_mouse_type\n",
    "    df2['Screening'] = input_screening\n",
    "    df3 = Generate_Tumor_number_table(input_df)\n",
    "    df3['Mouse_genotype'] = input_mouse_type\n",
    "    df3['Screening'] = input_screening\n",
    "    df4 = Generate_Tumor_burden_table(input_df)\n",
    "    df4['Mouse_genotype'] = input_mouse_type\n",
    "    df4['Screening'] = input_screening\n",
    "    return df1,df2,df3,df4"
   ]
  },
  {
   "cell_type": "code",
   "execution_count": 9,
   "id": "21f259b2-a6ee-4581-846b-09df4482a56d",
   "metadata": {
    "execution": {
     "iopub.execute_input": "2023-05-05T00:08:24.914333Z",
     "iopub.status.busy": "2023-05-05T00:08:24.913937Z",
     "iopub.status.idle": "2023-05-05T00:08:24.918810Z",
     "shell.execute_reply": "2023-05-05T00:08:24.918280Z",
     "shell.execute_reply.started": "2023-05-05T00:08:24.914313Z"
    },
    "tags": []
   },
   "outputs": [],
   "source": [
    "def Cal_Combined_Effect(x,bootstrap_N):\n",
    "    d = {}\n",
    "    temp_trait_of_interest = ['LN_mean_relative_bootstrap_mean','TTB_normalized_relative_bootstrap_mean','95_percentile_relative_bootstrap_mean','TTN_normalized_relative_bootstrap_mean'] # this is the list that I am interested to study gene level effect\n",
    "    temp_weight_list = x['TTN_normalized_relative']\n",
    "    for temp_trait in temp_trait_of_interest:\n",
    "        d[temp_trait.replace('_bootstrap_mean','_score')] = sum(x[temp_trait]*temp_weight_list/sum(temp_weight_list))\n",
    "        d[temp_trait.replace('_bootstrap_mean','_pvalue')] = Stouffer_Test(x[temp_trait.replace('_bootstrap_mean','_pvalue')],temp_weight_list,bootstrap_N)\n",
    "        d[temp_trait.replace('_bootstrap_mean','_pvalue_twoside')] = Stouffer_Test(x[temp_trait.replace('_bootstrap_mean','_pvalue_twoside')],temp_weight_list,bootstrap_N)\n",
    "    return pd.Series(d, index=list(d.keys())) "
   ]
  },
  {
   "cell_type": "code",
   "execution_count": 10,
   "id": "db56a2ef-0721-45aa-83c0-612264da21f3",
   "metadata": {
    "execution": {
     "iopub.execute_input": "2023-05-05T00:08:25.179135Z",
     "iopub.status.busy": "2023-05-05T00:08:25.178876Z",
     "iopub.status.idle": "2023-05-05T00:08:25.183891Z",
     "shell.execute_reply": "2023-05-05T00:08:25.183283Z",
     "shell.execute_reply.started": "2023-05-05T00:08:25.179117Z"
    },
    "tags": []
   },
   "outputs": [],
   "source": [
    "def Stouffer_Test(input_pvalue_list,input_weight,bootstrap_N):\n",
    "    # this function combine pvalue using the Stouffer weighted Z \n",
    "    temp_corrected_p_list = []\n",
    "    for tp in input_pvalue_list:\n",
    "        if tp ==1:\n",
    "            temp_corrected_p_list.append(1-1/bootstrap_N) #compensate for p=1\n",
    "        elif tp == 0:\n",
    "            temp_corrected_p_list.append(0+1/bootstrap_N)#compensate for p=0\n",
    "        else:\n",
    "            temp_corrected_p_list.append(tp)\n",
    "    z_score = scipy.stats.norm.ppf(temp_corrected_p_list)# use Percent point function to calculate z score based on pvalue\n",
    "    z_weighted = sum(np.array(input_weight)*z_score)/math.sqrt(sum(np.array(input_weight)**2)) # calculate weighted z_score\n",
    "    stouffer_alpha  = scipy.stats.norm.cdf(z_weighted)\n",
    "    return(stouffer_alpha)"
   ]
  },
  {
   "cell_type": "code",
   "execution_count": 11,
   "id": "d8865d8b-fdf7-4713-bb98-22cedc36e530",
   "metadata": {
    "execution": {
     "iopub.execute_input": "2023-05-05T00:08:25.352109Z",
     "iopub.status.busy": "2023-05-05T00:08:25.351737Z",
     "iopub.status.idle": "2023-05-05T00:08:25.355597Z",
     "shell.execute_reply": "2023-05-05T00:08:25.355121Z",
     "shell.execute_reply.started": "2023-05-05T00:08:25.352092Z"
    },
    "tags": []
   },
   "outputs": [],
   "source": [
    "def Generate_Gene_Level_Effect(input_df,bootstrap_N):\n",
    "    temp_df = input_df.groupby(['Targeted_gene_name', 'Type'],as_index = False).apply(Cal_Combined_Effect,(bootstrap_N))\n",
    "    temp_trait_of_interest = ['LN_mean_relative','TTB_normalized_relative','95_percentile_relative','TTN_normalized_relative']\n",
    "    for temp_trait in temp_trait_of_interest:\n",
    "        temp_name1 = temp_trait + '_pvalue'\n",
    "        temp_name2 = temp_name1 + '_FDR'\n",
    "        temp_name3 = temp_name1 + '_twoside'\n",
    "        temp_name4 = temp_name1 + '_twoside_FDR'\n",
    "        temp_df[temp_name2] = fdr(temp_df[temp_name1])\n",
    "        temp_df[temp_name4] = fdr(temp_df[temp_name3])\n",
    "    return(temp_df)"
   ]
  },
  {
   "cell_type": "markdown",
   "id": "1c9bda37-9fcc-4e01-a825-00084cb55c3b",
   "metadata": {},
   "source": [
    "---"
   ]
  },
  {
   "cell_type": "markdown",
   "id": "5623c545-ce9b-47ab-9e85-e4f0e570b204",
   "metadata": {},
   "source": [
    "## 2 Input and Output address "
   ]
  },
  {
   "cell_type": "markdown",
   "id": "2eb1b580-50ce-4a44-8d8e-fc3582a460d1",
   "metadata": {},
   "source": [
    "### 2.1 Input"
   ]
  },
  {
   "cell_type": "code",
   "execution_count": 15,
   "id": "d7bf6782-0c35-4ae0-9be7-d17f378c0337",
   "metadata": {
    "execution": {
     "iopub.execute_input": "2023-05-05T00:09:01.493987Z",
     "iopub.status.busy": "2023-05-05T00:09:01.493679Z",
     "iopub.status.idle": "2023-05-05T00:09:01.497239Z",
     "shell.execute_reply": "2023-05-05T00:09:01.496501Z",
     "shell.execute_reply.started": "2023-05-05T00:09:01.493964Z"
    },
    "tags": []
   },
   "outputs": [],
   "source": [
    "# combined barcode dataframe address\n",
    "parent_address = \"Data/\"\n",
    "# input bootstrapped data\n",
    "input_df_address = parent_address + \"Chromatin_65Q/Chromatin_65Q_bootstrapping_result_summary.csv\"\n",
    "# the name of this screening\n",
    "input_screen_name = '65Q'"
   ]
  },
  {
   "cell_type": "markdown",
   "id": "ee565423-a559-4b6a-8f47-e4d3e9e92953",
   "metadata": {},
   "source": [
    "### 2.2 Output "
   ]
  },
  {
   "cell_type": "code",
   "execution_count": 16,
   "id": "a507bbad-75e9-4c8b-89ea-2855ff609711",
   "metadata": {
    "execution": {
     "iopub.execute_input": "2023-05-05T00:09:02.058757Z",
     "iopub.status.busy": "2023-05-05T00:09:02.058400Z",
     "iopub.status.idle": "2023-05-05T00:09:02.062629Z",
     "shell.execute_reply": "2023-05-05T00:09:02.061924Z",
     "shell.execute_reply.started": "2023-05-05T00:09:02.058733Z"
    },
    "tags": []
   },
   "outputs": [],
   "source": [
    "# parental address for output\n",
    "Output_parental_address = \"Data/Chromatin_65Q/\"\n",
    "Output_address_header = \"Chromatin_65Q\"\n",
    "\n",
    "# address for sgRNA df output\n",
    "temp_a = Output_parental_address + Output_address_header + \"_sgRNA_result_final.csv\"\n",
    "\n",
    "# address for sgRNA seperate table\n",
    "LN_mean_output_address = Output_parental_address + Output_address_header + \"_summary_table_LN_mean.csv\"\n",
    "Percentile_output_address = Output_parental_address + Output_address_header + \"_summary_table_Percentile.csv\"\n",
    "TTN_output_address = Output_parental_address + Output_address_header + \"_summary_table_TTN.csv\"\n",
    "TTB_output_address = Output_parental_address + Output_address_header + \"_summary_table_TTB.csv\"\n",
    "\n",
    "# gene level output address\n",
    "temp_b = Output_parental_address + Output_address_header + \"_gene_result_final.csv\""
   ]
  },
  {
   "cell_type": "markdown",
   "id": "5bf5e72e-420f-4ec9-8826-3e0d978f238d",
   "metadata": {},
   "source": [
    "## 3 Read data"
   ]
  },
  {
   "cell_type": "code",
   "execution_count": 17,
   "id": "08e95fdd-1e8e-436e-a5a8-d4590ccdfeae",
   "metadata": {
    "execution": {
     "iopub.execute_input": "2023-05-05T00:09:02.835885Z",
     "iopub.status.busy": "2023-05-05T00:09:02.835623Z",
     "iopub.status.idle": "2023-05-05T00:09:02.861092Z",
     "shell.execute_reply": "2023-05-05T00:09:02.860570Z",
     "shell.execute_reply.started": "2023-05-05T00:09:02.835864Z"
    },
    "tags": []
   },
   "outputs": [],
   "source": [
    "# chromatin data\n",
    "raw_input_df = Generate_simplified(pd.read_csv(input_df_address))"
   ]
  },
  {
   "cell_type": "markdown",
   "id": "fbe9a116-7842-4be0-8853-649a9d17cdc3",
   "metadata": {
    "tags": []
   },
   "source": [
    "### 3.1 I correct pvalues"
   ]
  },
  {
   "cell_type": "code",
   "execution_count": 18,
   "id": "a6a12fe2-f825-4e1d-8bd6-a489dc0ad07d",
   "metadata": {
    "execution": {
     "iopub.execute_input": "2023-05-05T00:09:04.125720Z",
     "iopub.status.busy": "2023-05-05T00:09:04.125255Z",
     "iopub.status.idle": "2023-05-05T00:09:04.139829Z",
     "shell.execute_reply": "2023-05-05T00:09:04.139136Z",
     "shell.execute_reply.started": "2023-05-05T00:09:04.125692Z"
    },
    "tags": []
   },
   "outputs": [],
   "source": [
    "temp_df = raw_input_df\n",
    "temp_c = [x for x in temp_df.columns if ('pvalue' in x)&( 'FDR' not in x)]\n",
    "for x in temp_c:\n",
    "    temp_df[x] = temp_df[x].apply(lambda x: min(x,1-x))\n",
    "raw_input_df = temp_df"
   ]
  },
  {
   "cell_type": "markdown",
   "id": "19a3ea8b-678f-4745-8528-ba3e835f2d50",
   "metadata": {},
   "source": [
    "### 3.2 Filter out genes from other people's data"
   ]
  },
  {
   "cell_type": "code",
   "execution_count": 16,
   "id": "87c1b1d5-b448-4e10-9357-3d51774bafd1",
   "metadata": {
    "execution": {
     "iopub.execute_input": "2023-05-02T22:20:30.679526Z",
     "iopub.status.busy": "2023-05-02T22:20:30.678794Z",
     "iopub.status.idle": "2023-05-02T22:20:30.682680Z",
     "shell.execute_reply": "2023-05-02T22:20:30.682015Z",
     "shell.execute_reply.started": "2023-05-02T22:20:30.679498Z"
    },
    "tags": []
   },
   "outputs": [],
   "source": [
    "# ref: https://docs.google.com/spreadsheets/d/1ucg3jBUXZMwZIv3QZhJ41Ne0RTrujqQ3/edit#gid=1593778826"
   ]
  },
  {
   "cell_type": "code",
   "execution_count": 19,
   "id": "82f33012-46b5-4806-b612-518535df6c9f",
   "metadata": {
    "execution": {
     "iopub.execute_input": "2023-05-05T00:09:08.745434Z",
     "iopub.status.busy": "2023-05-05T00:09:08.744666Z",
     "iopub.status.idle": "2023-05-05T00:09:08.751339Z",
     "shell.execute_reply": "2023-05-05T00:09:08.750445Z",
     "shell.execute_reply.started": "2023-05-05T00:09:08.745397Z"
    },
    "tags": []
   },
   "outputs": [],
   "source": [
    "Gene_to_exclude_raw = ['CELSR1','CELSR2','VANGL1','Ptpn14','Cdkn1a','Gss',\n",
    "                   'IFT80','CEP290','KIF3A','TULP3','IFT140','Stag1','Smc3','Smc1a',\n",
    "                  'Nipbl','Mau2','Wapl','Pds5a','Rad21','OTUD5','UBE2Q1','MSI2','C7orf26',\n",
    "                      'ZZZ3','RSU1','GCLC','WNK1','Sty1','Zmat3','Stag2']\n",
    "#Sty1 is a typo version of gene Sytl1\n",
    "Gene_to_exclude = [x.capitalize() for x in Gene_to_exclude_raw]"
   ]
  },
  {
   "cell_type": "code",
   "execution_count": 20,
   "id": "ae823700-a31c-4a44-a51d-01073de298aa",
   "metadata": {
    "execution": {
     "iopub.execute_input": "2023-05-05T00:09:08.991559Z",
     "iopub.status.busy": "2023-05-05T00:09:08.991281Z",
     "iopub.status.idle": "2023-05-05T00:09:08.996223Z",
     "shell.execute_reply": "2023-05-05T00:09:08.995688Z",
     "shell.execute_reply.started": "2023-05-05T00:09:08.991541Z"
    },
    "tags": []
   },
   "outputs": [],
   "source": [
    "raw_input_df = raw_input_df[~raw_input_df.Targeted_gene_name.isin(Gene_to_exclude)].copy()"
   ]
  },
  {
   "cell_type": "markdown",
   "id": "a2081d33-24d5-4359-92c8-899b4baa9f30",
   "metadata": {},
   "source": [
    "### 3.3 Recalculate two side pvalue and FDR"
   ]
  },
  {
   "cell_type": "code",
   "execution_count": 21,
   "id": "948e87a7-40da-461d-ad99-31dee2278be7",
   "metadata": {
    "execution": {
     "iopub.execute_input": "2023-05-05T00:09:09.304692Z",
     "iopub.status.busy": "2023-05-05T00:09:09.304448Z",
     "iopub.status.idle": "2023-05-05T00:09:09.777589Z",
     "shell.execute_reply": "2023-05-05T00:09:09.777050Z",
     "shell.execute_reply.started": "2023-05-05T00:09:09.304676Z"
    },
    "tags": []
   },
   "outputs": [],
   "source": [
    "temp_df = raw_input_df\n",
    "temp_c = [x for x in temp_df.columns if ('pvalue' in x)&( 'FDR' not in x)]\n",
    "for x in temp_c:\n",
    "    temp_df[x +'_FDR'] = fdr(temp_df[x])\n",
    "    temp_df[x +'_twoside'] = temp_df[x]*2\n",
    "    temp_df[x +'_twoside_FDR'] = fdr(temp_df[x +'_twoside'])\n",
    "Final_sgRNA_df = temp_df"
   ]
  },
  {
   "cell_type": "markdown",
   "id": "773b232c-5b88-4d25-890b-963a2d0551bf",
   "metadata": {},
   "source": [
    "## 4 Generate metric specific table"
   ]
  },
  {
   "cell_type": "markdown",
   "id": "e1519d11-ba27-4c89-80f5-c517dd6056aa",
   "metadata": {},
   "source": [
    "### 4.1 Initial screening"
   ]
  },
  {
   "cell_type": "code",
   "execution_count": 22,
   "id": "e3940ec9-19fd-406b-a309-07fe687aa6f2",
   "metadata": {
    "execution": {
     "iopub.execute_input": "2023-05-05T00:09:09.779050Z",
     "iopub.status.busy": "2023-05-05T00:09:09.778845Z",
     "iopub.status.idle": "2023-05-05T00:09:09.786201Z",
     "shell.execute_reply": "2023-05-05T00:09:09.785762Z",
     "shell.execute_reply.started": "2023-05-05T00:09:09.779034Z"
    },
    "tags": []
   },
   "outputs": [],
   "source": [
    "LN_mean,Percentile,TTN,TTB = Generate_seperate_table(Final_sgRNA_df,'KTC',input_screen_name)"
   ]
  },
  {
   "cell_type": "markdown",
   "id": "87d82a75-5d9a-48d8-940a-a9baca14fc85",
   "metadata": {},
   "source": [
    "## 5 Gene level effect"
   ]
  },
  {
   "cell_type": "code",
   "execution_count": 23,
   "id": "b9292515-358f-43b3-93ad-5aedb8c7207f",
   "metadata": {
    "execution": {
     "iopub.execute_input": "2023-05-05T00:09:10.057967Z",
     "iopub.status.busy": "2023-05-05T00:09:10.057674Z",
     "iopub.status.idle": "2023-05-05T00:09:10.721238Z",
     "shell.execute_reply": "2023-05-05T00:09:10.720747Z",
     "shell.execute_reply.started": "2023-05-05T00:09:10.057944Z"
    },
    "tags": []
   },
   "outputs": [],
   "source": [
    "Gene_level_df = Generate_Gene_Level_Effect(raw_input_df,1000)"
   ]
  },
  {
   "cell_type": "markdown",
   "id": "41a46cc4-8b83-4d0a-85bb-405a5f3bbd1d",
   "metadata": {},
   "source": [
    "---"
   ]
  },
  {
   "cell_type": "markdown",
   "id": "b68b7332-26e9-4f25-8415-2f197f0a097c",
   "metadata": {},
   "source": [
    "## 5 Output_data"
   ]
  },
  {
   "cell_type": "code",
   "execution_count": 24,
   "id": "a2bb6a0e-b3c2-4f42-ba15-9ebf6bdfacc6",
   "metadata": {
    "execution": {
     "iopub.execute_input": "2023-05-05T00:09:10.888620Z",
     "iopub.status.busy": "2023-05-05T00:09:10.888246Z",
     "iopub.status.idle": "2023-05-05T00:09:11.066095Z",
     "shell.execute_reply": "2023-05-05T00:09:11.065458Z",
     "shell.execute_reply.started": "2023-05-05T00:09:10.888586Z"
    },
    "tags": []
   },
   "outputs": [],
   "source": [
    "raw_input_df.to_csv(temp_a,index = False)\n",
    "LN_mean.to_csv(LN_mean_output_address,index = False)\n",
    "TTN.to_csv(TTN_output_address,index = False)\n",
    "TTB.to_csv(TTB_output_address,index = False)\n",
    "Percentile.to_csv(Percentile_output_address,index = False)\n",
    "Gene_level_df.to_csv(temp_b,index = False)"
   ]
  },
  {
   "cell_type": "code",
   "execution_count": null,
   "id": "cbf16f32-f9c5-4c23-adb9-12823279525d",
   "metadata": {},
   "outputs": [],
   "source": []
  },
  {
   "cell_type": "code",
   "execution_count": null,
   "id": "8afedc36-afc4-465b-8977-b98af1c1ebd9",
   "metadata": {},
   "outputs": [],
   "source": []
  },
  {
   "cell_type": "code",
   "execution_count": null,
   "id": "00ad933b-2779-4163-adf4-8140633be26e",
   "metadata": {},
   "outputs": [],
   "source": []
  },
  {
   "cell_type": "code",
   "execution_count": null,
   "id": "d6397f2f-c25e-4267-a6eb-236b8b6dd1ef",
   "metadata": {},
   "outputs": [],
   "source": []
  },
  {
   "cell_type": "code",
   "execution_count": null,
   "id": "9f18c9cc-1292-43a6-ace4-8feba0779f77",
   "metadata": {},
   "outputs": [],
   "source": []
  }
 ],
 "metadata": {
  "kernelspec": {
   "display_name": "HX_basic",
   "language": "python",
   "name": "hx_basic"
  },
  "language_info": {
   "codemirror_mode": {
    "name": "ipython",
    "version": 3
   },
   "file_extension": ".py",
   "mimetype": "text/x-python",
   "name": "python",
   "nbconvert_exporter": "python",
   "pygments_lexer": "ipython3",
   "version": "3.10.6"
  }
 },
 "nbformat": 4,
 "nbformat_minor": 5
}
